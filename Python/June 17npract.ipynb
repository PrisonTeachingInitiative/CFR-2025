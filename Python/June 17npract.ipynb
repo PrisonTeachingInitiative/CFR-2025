{
 "cells": [
  {
   "cell_type": "code",
   "execution_count": 3,
   "id": "6cc42dab-f954-43ac-beeb-b3415d6123f7",
   "metadata": {},
   "outputs": [
    {
     "ename": "SyntaxError",
     "evalue": "incomplete input (666527018.py, line 1)",
     "output_type": "error",
     "traceback": [
      "\u001b[1;36m  Cell \u001b[1;32mIn[3], line 1\u001b[1;36m\u001b[0m\n\u001b[1;33m    def total_cost_of_groceries(num_apples, num_oranges):\u001b[0m\n\u001b[1;37m                                                         ^\u001b[0m\n\u001b[1;31mSyntaxError\u001b[0m\u001b[1;31m:\u001b[0m incomplete input\n"
     ]
    }
   ],
   "source": [
    "def total_cost_of_groceries(num_apples, num_oranges):"
   ]
  },
  {
   "cell_type": "code",
   "execution_count": 17,
   "id": "b0ea0b28-8a78-4d8a-ab73-b407f0e64293",
   "metadata": {},
   "outputs": [],
   "source": [
    "def total_cost_of_groceries(num_apples, num_oranges):\n",
    "    \n",
    "\n",
    "\n",
    "    #Calculate the cost of apples\n",
    "    price_per_apple = 3\n",
    "    cost_of_apples = num_apples * price_per_apple\n",
    "\n",
    "    #Calculate the cost of oranges\n",
    "    price_per_orange = 2\n",
    "    cost_of_oranges = num_oranges * price_per_orange\n",
    "\n",
    "    total_cost = cost_of_apples + cost_of_oranges\n",
    "    \n",
    "\n",
    "    \n",
    "    return total_cost\n",
    "\n",
    "\n",
    "\n",
    "\n",
    "\n",
    "\n",
    "\n",
    "\n"
   ]
  },
  {
   "cell_type": "code",
   "execution_count": 18,
   "id": "02a90db2-dd7c-4b07-8c50-363bcfbcd4c4",
   "metadata": {},
   "outputs": [
    {
     "name": "stdout",
     "output_type": "stream",
     "text": [
      "16\n"
     ]
    }
   ],
   "source": [
    "Rich = total_cost_of_groceries(4,2)\n",
    "print(Rich)"
   ]
  },
  {
   "cell_type": "code",
   "execution_count": 21,
   "id": "ffa151e5-8500-406a-a81a-810e3f6d70e7",
   "metadata": {},
   "outputs": [],
   "source": [
    "def orchard(price_of_strawberries, price_of_cherries, weight_of_strawberries, weight_of_cherries):\n",
    "\n",
    "\n",
    "    #calculate cost of strawberries\n",
    "    price_of_strawberries = price_of_strawberries * weight_of_strawberries\n",
    "\n",
    "    #calculate cost of cherries\n",
    "    price_of_cherries = price_of_cherries * weight_of_cherries\n",
    "\n",
    "\n",
    "    total_cost = price_of_strawberries + price_of_cherries\n",
    "\n",
    "    return total_cost"
   ]
  },
  {
   "cell_type": "code",
   "execution_count": 26,
   "id": "14208de4-aa36-4c7d-8317-2d8aa1880a96",
   "metadata": {},
   "outputs": [
    {
     "name": "stdout",
     "output_type": "stream",
     "text": [
      "212\n"
     ]
    }
   ],
   "source": [
    "#Telhue  $7 strawberries, $10 cherries\n",
    "#Gabby 4,3\n",
    "#Omar: 5,3\n",
    "#Naeem:7,4\n",
    "\n",
    "\n",
    "\n",
    "Gabby = orchard(7, 10, 4, 3)\n",
    "Omar = orchard(7, 10, 5, 3)\n",
    "Naeem = orchard(7, 10, 7, 4)\n",
    "\n",
    "total_cost  = Gabby + Omar + Naeem\n",
    "print(total_cost)"
   ]
  },
  {
   "cell_type": "code",
   "execution_count": 28,
   "id": "bc0939c6-c5ea-4217-8c83-69f3a5945ff3",
   "metadata": {},
   "outputs": [
    {
     "name": "stdout",
     "output_type": "stream",
     "text": [
      "588\n"
     ]
    }
   ],
   "source": [
    "#Telhue  $7 strawberries, $10 cherries\n",
    "#Naeem 7,4\n",
    "#Rich: 6,8\n",
    "\n",
    "Naeem = orchard(7, 10, 7, 4)\n",
    "Rich = orchard(7, 10, 6, 8)\n",
    "\n",
    "# Cherry Grove  $5 strawberries, $11 cherries\n",
    "#Belle 5s, 7c\n",
    "#W 2s, 2c\n",
    "\n",
    "Belle = orchard(5, 11, 5, 7)\n",
    "W = orchard(5, 11, 2, 2)\n",
    "\n",
    "# Fruitwood $3 Strawberries, $9 cherries\n",
    "#Gabby 10s, 12c\n",
    "#Ananya 5s, 0c\n",
    "#Amel 0s, 10c\n",
    "\n",
    "Gabby = orchard(3, 9, 10, 12)\n",
    "Ananya = orchard(3, 9, 5, 0)\n",
    "Amel = orchard(3, 9, 0, 10)\n",
    "\n",
    "total_cost = Naeem + Rich + Belle + W + Gabby + Ananya + A\n",
    "print(total_cost)"
   ]
  },
  {
   "cell_type": "code",
   "execution_count": 6,
   "id": "17b249c8-c5dd-4a9b-b1f0-b101e542f359",
   "metadata": {},
   "outputs": [
    {
     "name": "stdout",
     "output_type": "stream",
     "text": [
      "$36.00\n"
     ]
    }
   ],
   "source": [
    "def lunch(price_of_falafel, price_of_lentil, price_of_pita, amount_of_falafel, amount_of_lentil, amount_of_pita):\n",
    "\n",
    "    \n",
    "    # cost of falafel\n",
    "    cost_of_falafel = price_of_falafel * amount_of_falafel\n",
    "\n",
    "    #cost of lentil\n",
    "    cost_of_lentil = price_of_lentil * amount_of_lentil\n",
    "\n",
    "    #cost of pita\n",
    "    cost_of_pita = price_of_pita * amount_of_pita\n",
    "\n",
    "    # special deal : cost of falafel is half off if two bought\n",
    "    cost_of_falafel_deal = price_of_falafel*0.5*amount_of_falafel\n",
    "    total_cost = cost_of_falafel + cost_of_lentil + cost_of_pita\n",
    "    return total_cost\n",
    "\n",
    "Darius = lunch(3, 2, 1, 2, 2, 1)\n",
    "Belle = lunch(3, 2, 1, 1, 1, 4)\n",
    "Amel = lunch(3, 2, 1, 3, 2, 3)\n",
    "\n",
    "total_cost = Darius + Belle + Amel\n",
    "print(f\"${total_cost:.2f}\")  "
   ]
  },
  {
   "cell_type": "code",
   "execution_count": 24,
   "id": "c93e9b84-2d6f-452d-afd4-763d49bb16c2",
   "metadata": {},
   "outputs": [],
   "source": [
    "# F = C x 9/5 + 32\n",
    "# Cels_to_Fahr\n",
    "#Return : fahrenheit\n",
    "# Variables: Celcius\n",
    "\n",
    "def Cels_to_Fahr(celsius):\n",
    "    \n",
    "    \n",
    "    fahrenheit = (celsius * 9/5) + 32\n",
    "    print(fahrenheit)\n",
    "\n",
    "\n",
    "\n",
    "def Fahr_to_Cels(fahrenheit):\n",
    "\n",
    "    celsius = (fahrenheit - 32) * 5/9\n",
    "    print(celsius)\n",
    "\n",
    "\n",
    "\n",
    "    "
   ]
  },
  {
   "cell_type": "code",
   "execution_count": null,
   "id": "62d447d6-dbb1-4ad6-be2b-02ae27e296d2",
   "metadata": {},
   "outputs": [],
   "source": [
    "# Budget $500 per day  MTWTF (Days)\n",
    "# make array import numpy as mp\n",
    "# loop and conditional\n",
    "# cost_array = np.array([300, 700, 100, 800, 200])\n",
    "# Create a loop inot each item of array and perform operation\n",
    "#  $100 coupon for monday (for loop)\n",
    "# cost_array[0] = cost_array[0] - 100\n",
    "# cost_array[1] = cost_array[1] - 200"
   ]
  },
  {
   "cell_type": "code",
   "execution_count": null,
   "id": "7a4e3e67-8956-418d-8d9d-b96155f2fb5a",
   "metadata": {},
   "outputs": [],
   "source": [
    "import numpy as np\n",
    "\n",
    "\n",
    "budget_per_day = 500\n",
    "\n",
    "\n",
    "cost_array = np.array([300, 700, 100, 800, 200]) # Monday, Tuesday, Wednesday, Thursday, Friday\n",
    "\n",
    "print('Initial Daily Costs:', cost_array)\n",
    "\n",
    "# Define the days of the week for printing\n",
    "days_of_week = ['Monday', 'Tuesday', 'Wednesday', 'Thursday', 'Friday']\n",
    "\n",
    "# Apply coupons \n",
    "# $100 coupon for Monday (index 0)\n",
    "cost_array[0] = cost_array[0] - 100\n",
    "# $200 coupon for Tuesday (index 1)\n",
    "cost_array[1] = cost_array[1] - 200\n",
    "\n",
    "print('Costs After Applying Coupons:', cost_array)\n",
    "\n",
    "#for loop\n",
    "\n",
    "for i in cost_array;\n",
    "print(cost_array)\n",
    "i= i-50\n",
    "print(cost_array)\n",
    "\n",
    "\n",
    "\n",
    "\n",
    "    "
   ]
  }
 ],
 "metadata": {
  "kernelspec": {
   "display_name": "Python 3 (ipykernel)",
   "language": "python",
   "name": "python3"
  },
  "language_info": {
   "codemirror_mode": {
    "name": "ipython",
    "version": 3
   },
   "file_extension": ".py",
   "mimetype": "text/x-python",
   "name": "python",
   "nbconvert_exporter": "python",
   "pygments_lexer": "ipython3",
   "version": "3.12.7"
  }
 },
 "nbformat": 4,
 "nbformat_minor": 5
}
