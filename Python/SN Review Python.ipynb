{
 "cells": [
  {
   "cell_type": "code",
   "execution_count": null,
   "id": "b947db04-8457-4a96-bc01-942a5b28201d",
   "metadata": {},
   "outputs": [],
   "source": []
  },
  {
   "cell_type": "markdown",
   "id": "98214bfe-3439-4b2d-8ee1-aabb9497473d",
   "metadata": {},
   "source": [
    "Markdown This is a Markdown cell"
   ]
  },
  {
   "cell_type": "code",
   "execution_count": 1,
   "id": "c355a597-ed23-4453-9c57-72b887f3c6b8",
   "metadata": {},
   "outputs": [
    {
     "name": "stdout",
     "output_type": "stream",
     "text": [
      "Jupyter Lab\n"
     ]
    }
   ],
   "source": [
    "print('Jupyter Lab')"
   ]
  },
  {
   "cell_type": "markdown",
   "id": "40613a8d-1342-4c0d-a448-2a1825627ca9",
   "metadata": {},
   "source": [
    "Introduction"
   ]
  },
  {
   "cell_type": "code",
   "execution_count": 4,
   "id": "12d0aecb-517a-436d-98fe-b28855f619be",
   "metadata": {},
   "outputs": [
    {
     "name": "stdout",
     "output_type": "stream",
     "text": [
      " Richard Doherty  4804\n"
     ]
    }
   ],
   "source": [
    "print(' Richard Doherty  4804')"
   ]
  },
  {
   "cell_type": "markdown",
   "id": "83d5cf0c-3926-47c7-b279-fc2e9f56adbe",
   "metadata": {},
   "source": [
    "Simple Calculation"
   ]
  },
  {
   "cell_type": "code",
   "execution_count": 5,
   "id": "1fd7b0f1-7365-4171-9dae-f87bc1671f8b",
   "metadata": {},
   "outputs": [],
   "source": [
    "Result = 2 + 2"
   ]
  },
  {
   "cell_type": "code",
   "execution_count": 6,
   "id": "3d6d1683-b98a-4ebd-b3e8-cd439261684d",
   "metadata": {},
   "outputs": [
    {
     "name": "stdout",
     "output_type": "stream",
     "text": [
      "4\n"
     ]
    }
   ],
   "source": [
    "print(Result)"
   ]
  },
  {
   "cell_type": "markdown",
   "id": "89d29850-db1a-4737-a768-83ab8ce378a3",
   "metadata": {},
   "source": [
    "Session 1 review complete"
   ]
  },
  {
   "cell_type": "markdown",
   "id": "6d618b0e-5902-4c4d-ada9-3d97fc130b52",
   "metadata": {},
   "source": [
    "Session 2 Review"
   ]
  },
  {
   "cell_type": "code",
   "execution_count": 7,
   "id": "32699219-d949-45b9-aac4-be4de7c9f6f8",
   "metadata": {},
   "outputs": [
    {
     "name": "stdout",
     "output_type": "stream",
     "text": [
      "Rich\n"
     ]
    }
   ],
   "source": [
    "name = ('Rich')\n",
    "print(name)"
   ]
  },
  {
   "cell_type": "code",
   "execution_count": 8,
   "id": "3d68f279-9b01-4f51-8fe6-d0bac89fb0ad",
   "metadata": {},
   "outputs": [
    {
     "name": "stdout",
     "output_type": "stream",
     "text": [
      "10\n"
     ]
    }
   ],
   "source": [
    "x = 5\n",
    "y = 3\n",
    "print(x+5)"
   ]
  },
  {
   "cell_type": "code",
   "execution_count": 12,
   "id": "415858b5-96e7-4a77-af7d-a9fb62471773",
   "metadata": {},
   "outputs": [
    {
     "name": "stdout",
     "output_type": "stream",
     "text": [
      "32\n"
     ]
    }
   ],
   "source": [
    "l = 8\n",
    "w = 4\n",
    "a = l * w\n",
    "print(a)"
   ]
  },
  {
   "cell_type": "code",
   "execution_count": 18,
   "id": "42a96fb3-3b78-4ab8-a1e5-bd98ae18bfe4",
   "metadata": {},
   "outputs": [
    {
     "name": "stdout",
     "output_type": "stream",
     "text": [
      "perimeter 24\n"
     ]
    }
   ],
   "source": [
    "p = 2*l + 2*w\n",
    "print('perimeter', p)"
   ]
  },
  {
   "cell_type": "code",
   "execution_count": 13,
   "id": "d718e885-0e9a-428d-b415-b3a334ac2850",
   "metadata": {},
   "outputs": [
    {
     "name": "stdout",
     "output_type": "stream",
     "text": [
      "2.4\n"
     ]
    }
   ],
   "source": [
    "x = 12\n",
    "y = 5\n",
    "result = 12 / 5\n",
    "print(result)"
   ]
  },
  {
   "cell_type": "code",
   "execution_count": 16,
   "id": "57500941-0cb8-4160-a7cb-4eb89b122326",
   "metadata": {},
   "outputs": [
    {
     "name": "stdout",
     "output_type": "stream",
     "text": [
      "Rich 36 Red\n"
     ]
    }
   ],
   "source": [
    "person_name = 'Rich'\n",
    "person_age = 36\n",
    "favorite_color = 'Red'\n",
    "print(person_name, person_age, favorite_color)"
   ]
  },
  {
   "cell_type": "code",
   "execution_count": 19,
   "id": "ff966bc3-462c-4897-98b5-cac29b685675",
   "metadata": {},
   "outputs": [
    {
     "name": "stdout",
     "output_type": "stream",
     "text": [
      "JohnDoe\n"
     ]
    }
   ],
   "source": [
    "first_name = 'John'\n",
    "last_name = 'Doe'\n",
    "print(first_name + last_name)"
   ]
  },
  {
   "cell_type": "code",
   "execution_count": 22,
   "id": "195b2e2a-ad85-48a4-9a99-fe38abddefaa",
   "metadata": {},
   "outputs": [
    {
     "name": "stdout",
     "output_type": "stream",
     "text": [
      "John   Doe\n"
     ]
    }
   ],
   "source": [
    "print(first_name + \"   \" + last_name)"
   ]
  },
  {
   "cell_type": "code",
   "execution_count": 39,
   "id": "f3c054d9-9e36-43c5-aa7a-e690f786fc0c",
   "metadata": {},
   "outputs": [
    {
     "name": "stdout",
     "output_type": "stream",
     "text": [
      "Hi my name is John Doe\n"
     ]
    }
   ],
   "source": [
    "full_greeting = (\"Hi my name is\")+ \" \" + first_name + \" \"  + last_name\n",
    "print(full_greeting)"
   ]
  },
  {
   "cell_type": "markdown",
   "id": "43fe6053-c283-4e2e-a700-cefcb818368e",
   "metadata": {},
   "source": [
    "end session 2 review"
   ]
  },
  {
   "cell_type": "markdown",
   "id": "0229d640-ea9b-4601-8f31-d759d1ffac4b",
   "metadata": {},
   "source": [
    "Start SESSION 3 REVIEW"
   ]
  }
 ],
 "metadata": {
  "kernelspec": {
   "display_name": "Python 3 (ipykernel)",
   "language": "python",
   "name": "python3"
  },
  "language_info": {
   "codemirror_mode": {
    "name": "ipython",
    "version": 3
   },
   "file_extension": ".py",
   "mimetype": "text/x-python",
   "name": "python",
   "nbconvert_exporter": "python",
   "pygments_lexer": "ipython3",
   "version": "3.12.7"
  }
 },
 "nbformat": 4,
 "nbformat_minor": 5
}
