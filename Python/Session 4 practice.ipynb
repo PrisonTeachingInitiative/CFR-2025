{
 "cells": [
  {
   "cell_type": "code",
   "execution_count": 6,
   "id": "865afce8-6b3d-4b52-b81e-e87c2f554fc5",
   "metadata": {},
   "outputs": [
    {
     "name": "stdout",
     "output_type": "stream",
     "text": [
      "10.0\n"
     ]
    }
   ],
   "source": [
    "def average(a, b, c):\n",
    "    return(a+b+c)/3\n",
    "\n",
    "    \n",
    "print(average(5, 10, 15))"
   ]
  },
  {
   "cell_type": "code",
   "execution_count": 7,
   "id": "a3f68f16-2b0e-4a0c-8407-4db7d6cb36e4",
   "metadata": {},
   "outputs": [
    {
     "name": "stdout",
     "output_type": "stream",
     "text": [
      "10.0\n"
     ]
    }
   ],
   "source": [
    "def average(a, b, c):\n",
    "    return (a+b+c)/3\n",
    "\n",
    "print(average(5, 10, 15))"
   ]
  },
  {
   "cell_type": "code",
   "execution_count": 17,
   "id": "8b08272c-b969-47bb-b931-2879bc45638a",
   "metadata": {},
   "outputs": [
    {
     "ename": "IndentationError",
     "evalue": "expected an indented block after 'else' statement on line 10 (3513564779.py, line 11)",
     "output_type": "error",
     "traceback": [
      "\u001b[1;36m  Cell \u001b[1;32mIn[17], line 11\u001b[1;36m\u001b[0m\n\u001b[1;33m    return y\u001b[0m\n\u001b[1;37m            ^\u001b[0m\n\u001b[1;31mIndentationError\u001b[0m\u001b[1;31m:\u001b[0m expected an indented block after 'else' statement on line 10\n"
     ]
    }
   ],
   "source": [
    "def average(a, b, c):\n",
    "    return (a+b+c)/3\n",
    "\n",
    "print(average(5, 10, 15))\n"
   ]
  },
  {
   "cell_type": "code",
   "execution_count": 26,
   "id": "feb47974-b6a1-4a9f-88ba-bb9784db60aa",
   "metadata": {},
   "outputs": [
    {
     "name": "stdout",
     "output_type": "stream",
     "text": [
      "10\n"
     ]
    }
   ],
   "source": [
    "def max_of_two(x, y):\n",
    "   \n",
    "   \n",
    "    # Check if x is greater than y\n",
    "    if x > y:\n",
    "        # If x is greater, return x\n",
    "        return x\n",
    "    # If y is greater or equal to x, return y\n",
    "    return y\n",
    "print(max_of_two(5, 10))"
   ]
  },
  {
   "cell_type": "code",
   "execution_count": 28,
   "id": "d33264ce-2c4b-45c3-98c0-72c29c63b518",
   "metadata": {},
   "outputs": [
    {
     "ename": "NameError",
     "evalue": "name 'celsius_to_fahrenheit' is not defined",
     "output_type": "error",
     "traceback": [
      "\u001b[1;31m---------------------------------------------------------------------------\u001b[0m",
      "\u001b[1;31mNameError\u001b[0m                                 Traceback (most recent call last)",
      "Cell \u001b[1;32mIn[28], line 4\u001b[0m\n\u001b[0;32m      1\u001b[0m temp_in_celsius \u001b[38;5;241m=\u001b[39m \u001b[38;5;241m25\u001b[39m\n\u001b[0;32m      2\u001b[0m temp_in_fahrenheit \u001b[38;5;241m=\u001b[39m \u001b[38;5;241m90\u001b[39m\n\u001b[1;32m----> 4\u001b[0m temp_in_celsius_converted \u001b[38;5;241m=\u001b[39m celsius_to_fahrenheit(temp_in_celsius)\n\u001b[0;32m      5\u001b[0m larger_temp\u001b[38;5;241m=\u001b[39m max_of_two(temp_in_celsius_converted, temp_in_fahrenheit)\n\u001b[0;32m      7\u001b[0m \u001b[38;5;28;01mif\u001b[39;00m larger_temp \u001b[38;5;241m==\u001b[39m temp_in_celsius_converted:\n",
      "\u001b[1;31mNameError\u001b[0m: name 'celsius_to_fahrenheit' is not defined"
     ]
    }
   ],
   "source": [
    "temp_in_celsius = 25\n",
    "temp_in_fahrenheit = 90\n",
    "\n",
    "temp_in_celsius_converted = celsius_to_fahrenheit(temp_in_celsius)\n",
    "larger_temp= max_of_two(temp_in_celsius_converted, temp_in_fahrenheit)\n",
    "\n",
    "if larger_temp == temp_in_celsius_converted:\n",
    "    print(\"Temp in Celsius is Hotter\")\n",
    "else:\n",
    "    print(\"Temp in Fahrenheit is Hotter\")\n",
    "\n",
    "\n"
   ]
  },
  {
   "cell_type": "code",
   "execution_count": null,
   "id": "80aec5a1-4e90-4210-ad19-9d155d951ca7",
   "metadata": {},
   "outputs": [],
   "source": []
  }
 ],
 "metadata": {
  "kernelspec": {
   "display_name": "Python 3 (ipykernel)",
   "language": "python",
   "name": "python3"
  },
  "language_info": {
   "codemirror_mode": {
    "name": "ipython",
    "version": 3
   },
   "file_extension": ".py",
   "mimetype": "text/x-python",
   "name": "python",
   "nbconvert_exporter": "python",
   "pygments_lexer": "ipython3",
   "version": "3.12.7"
  }
 },
 "nbformat": 4,
 "nbformat_minor": 5
}
