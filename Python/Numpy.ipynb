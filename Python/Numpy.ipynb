{
 "cells": [
  {
   "cell_type": "code",
   "execution_count": 2,
   "id": "f8997be2-e1bf-4560-af8d-ddc818e3270e",
   "metadata": {},
   "outputs": [
    {
     "name": "stdout",
     "output_type": "stream",
     "text": [
      "[1 2 5 7]\n"
     ]
    }
   ],
   "source": [
    "import numpy as np\n",
    "my_array = np.array([1, 2, 5, 7])\n",
    "print(my_array)"
   ]
  },
  {
   "cell_type": "code",
   "execution_count": 5,
   "id": "bc9649f1-a4ca-4a8e-b9d2-3233984c72d1",
   "metadata": {},
   "outputs": [
    {
     "name": "stdout",
     "output_type": "stream",
     "text": [
      "[ 0.   2.5  5.   7.5 10. ]\n"
     ]
    }
   ],
   "source": [
    "array2 = np.linspace(0,10,5) # if you know number of points\n",
    "print(array2)"
   ]
  },
  {
   "cell_type": "code",
   "execution_count": 11,
   "id": "45471241-f164-4292-9269-b583ceea99b0",
   "metadata": {},
   "outputs": [
    {
     "name": "stdout",
     "output_type": "stream",
     "text": [
      "3.5\n",
      "21\n",
      "1\n",
      "6\n",
      "7\n",
      "31.5\n"
     ]
    }
   ],
   "source": [
    "arr = np.array([1, 2, 3, 4, 5, 6])\n",
    "print(np.mean(arr))\n",
    "print(np.sum(arr))\n",
    "print(np.min(arr))\n",
    "print(np.max(arr))\n",
    "print(np.max(arr) + np.min(arr))\n",
    "print(np.mean(arr) + np.sum(arr) + np.min(arr) + np.max(arr))"
   ]
  },
  {
   "cell_type": "code",
   "execution_count": 13,
   "id": "fa126551-3e1c-4572-8005-1514de577b2f",
   "metadata": {},
   "outputs": [
    {
     "name": "stdout",
     "output_type": "stream",
     "text": [
      "2\n",
      "2\n",
      "4.0\n"
     ]
    }
   ],
   "source": [
    "def sum_and_average(array1, array2):\n",
    "    summed_array = array1 + array2\n",
    "    return np.mean(summed_array)\n",
    "\n",
    "array1 = np.random.randint((4))\n",
    "print(array1)\n",
    "\n",
    "\n",
    "array2 = np.random.randint((4))\n",
    "print(array2)\n",
    "\n",
    "mean_array = sum_and_average(array1, array2)\n",
    "print(mean_array)"
   ]
  },
  {
   "cell_type": "code",
   "execution_count": 9,
   "id": "e67dd826-b283-41dc-bf92-30ab53fbb016",
   "metadata": {},
   "outputs": [
    {
     "name": "stdout",
     "output_type": "stream",
     "text": [
      "[ 5 10 15 20 25]\n",
      "[15. 30. 45. 60. 75.]\n"
     ]
    }
   ],
   "source": [
    "my_array = np.array([5, 10, 15, 20, 25])\n",
    "print(my_array)\n",
    "my_array = np.linspace(5,25,5)\n",
    "my_array = my_array * 3\n",
    "print(my_array)"
   ]
  },
  {
   "cell_type": "code",
   "execution_count": 11,
   "id": "68f715f2-c569-45d2-b592-481c8d3353a6",
   "metadata": {},
   "outputs": [
    {
     "name": "stdout",
     "output_type": "stream",
     "text": [
      "4\n",
      "5\n",
      "9.0\n"
     ]
    }
   ],
   "source": [
    "def sum_and_average(array1, array2):\n",
    "    summed_array = array1 + array2\n",
    "    return np.mean(summed_array)\n",
    "\n",
    "array1 = np.random.randint((6))\n",
    "print(array1)\n",
    "array2 = np.random.randint((6))\n",
    "print(array2)\n",
    "\n",
    "mean_array = sum_and_average(array1, array2)\n",
    "print(mean_array)\n"
   ]
  },
  {
   "cell_type": "code",
   "execution_count": 16,
   "id": "cb01f35d-9d40-4e03-844c-b63b4aa55a1c",
   "metadata": {},
   "outputs": [
    {
     "name": "stdout",
     "output_type": "stream",
     "text": [
      "13\n",
      "-4\n"
     ]
    }
   ],
   "source": [
    "# import numpy\n",
    "import numpy as np\n",
    "\n",
    "#print random numbers between 0-20\n",
    "print(np.random.randint(-5,20))\n",
    "\n",
    "\n",
    "\n",
    "random_num = np.random.randint(-5,20)\n",
    "print(random_num)\n",
    "\n",
    "\n",
    "\n"
   ]
  },
  {
   "cell_type": "code",
   "execution_count": 24,
   "id": "e687bad7-13dd-4606-930c-f4ed227ea723",
   "metadata": {},
   "outputs": [
    {
     "name": "stdout",
     "output_type": "stream",
     "text": [
      "80\n",
      "50\n"
     ]
    }
   ],
   "source": [
    "options = [0, 5, 10, 15, 20, 25, 30, 40, 50, 60, 70, 80]\n",
    "print(np.random.choice(options))\n",
    "random_num = np.random.choice(options)\n",
    "print(random_num)\n"
   ]
  },
  {
   "cell_type": "code",
   "execution_count": null,
   "id": "7fa8b196-fe32-4aa3-8301-57448d1378b9",
   "metadata": {},
   "outputs": [],
   "source": [
    "user_number = int(input(\"Enter a number: \"))\n",
    "print(type(user_number))"
   ]
  },
  {
   "cell_type": "code",
   "execution_count": 17,
   "id": "5f1ca07c-6755-4603-b7f0-61d8fb03895e",
   "metadata": {},
   "outputs": [
    {
     "name": "stdout",
     "output_type": "stream",
     "text": [
      "['Pizza', 'Cheeseburger', 'Chicken Fingers', 'Salad', 'Quesadilla']\n",
      "Cheeseburger\n"
     ]
    }
   ],
   "source": [
    "# Define Lunch Options\n",
    "import numpy as np\n",
    "lunch_options = [\"Pizza\", \"Cheeseburger\", \"Chicken Fingers\", \"Salad\", \"Quesadilla\"]\n",
    "print(lunch_options)\n",
    "print(np.random.choice(lunch_options))\n",
    "\n",
    "def what_should_i_eat():\n",
    "    \"\"\"Function to suggest a random lunch option from a predefined list.\"\"\"\n",
    "\n",
    "    # Define a list of lunch options\n",
    "    lunch_options = [\"Pizza\", \"Sushi\", \"Tacos\", \"Salad\", \"Burger\", \"Sandwich\"]\n",
    "\n",
    "    # Choose a random lunch option\n",
    "    random_lunch = np.random.choice(lunch_options)\n",
    "\n",
    "    # Print the choice\n",
    "    print(f\"You should eat {random_lunch} for lunch today!\")"
   ]
  },
  {
   "cell_type": "code",
   "execution_count": 16,
   "id": "4116cdb9-c72c-4859-a4ba-60f34cf6a0b2",
   "metadata": {},
   "outputs": [],
   "source": [
    "def what_should_i_eat():\n",
    "    \"\"\"Function to suggest a random lunch option from a predefined list.\"\"\"\n",
    "\n",
    "    # Define a list of lunch options\n",
    "    lunch_options = [\"Pizza\", \"Sushi\", \"Tacos\", \"Salad\", \"Burger\", \"Sandwich\"]\n",
    "\n",
    "    # Choose a random lunch option\n",
    "    random_lunch = np.random.choice(lunch_options)\n",
    "\n",
    "    # Print the choice\n",
    "    print(f\"You should eat {random_lunch} for lunch today!\")"
   ]
  },
  {
   "cell_type": "code",
   "execution_count": 18,
   "id": "484df360-0e0f-4ac6-85e9-4735076ac71c",
   "metadata": {},
   "outputs": [],
   "source": [
    "def what_should_i_eat_vegeterian(vegeterian = False):\n",
    "    \"\"\"Function to suggest a random lunch option from a predefined list.\n",
    "    \n",
    "    input:\n",
    "    vegeterian: bool, if True, suggests only vegetarian options\n",
    "    \"\"\"\n",
    "    if vegeterian:\n",
    "        lunch_options = [\"Cheese pizza\", \"Salad\", \"Veggie tacos\", \"Salad\", \"Veggie sandwich\"]\n",
    "    else:\n",
    "        lunch_options = [\"Pepperoni pizza\", \"Burger\", \"Sushi\", \"Meat tacos\", \"Salad\", \"Meat sandwich\"]\n",
    "\n",
    "    # Choose a random lunch option\n",
    "    random_lunch = np.random.choice(lunch_options)\n",
    "\n",
    "    # Print the choice\n",
    "    print(f\"You should eat {random_lunch} for lunch today! It's {'vegetarian' if vegeterian else 'not vegetarian'}.\")"
   ]
  },
  {
   "cell_type": "code",
   "execution_count": 30,
   "id": "e924680c-691e-448b-8fb2-10e581c8755b",
   "metadata": {},
   "outputs": [
    {
     "ename": "IndentationError",
     "evalue": "unexpected indent (248219237.py, line 19)",
     "output_type": "error",
     "traceback": [
      "\u001b[1;36m  Cell \u001b[1;32mIn[30], line 19\u001b[1;36m\u001b[0m\n\u001b[1;33m    user_correct = user_answer == correct_answer\u001b[0m\n\u001b[1;37m    ^\u001b[0m\n\u001b[1;31mIndentationError\u001b[0m\u001b[1;31m:\u001b[0m unexpected indent\n"
     ]
    }
   ],
   "source": [
    "def magic_eightball():\n",
    "    question = input(\" What is your question for the magic 8 ball?\")\n",
    "\n",
    "    possible_answers = input(\" Yes \", \" No \", \" Maybe \", \" Hell No \", \"Fuck You \")\n",
    "\n",
    "    random_answer = np.random_choice(possible_answers)\n",
    "    \n",
    "    print(question)\n",
    "    print(f\"The Magic 8 Ball Says: {random_answer}\") \n",
    "\n",
    "num1 = np.random.randint(1, 10)\n",
    "num2 = np.random.randint(1, 10)\n",
    "\n",
    "\n",
    "correct_answer = num1 + num2\n",
    "\n",
    "user_answer = int(input(f\"What is {num1} + {num2}?\"))\n",
    " # Check if the user's answer is correct\n",
    "        user_correct = user_answer == correct_answer\n",
    "\n",
    "        if user_correct:\n",
    "            print(\"Correct! Well done.\")\n",
    "        else:\n",
    "            print(f\"Incorrect. Guess again.\")\n",
    "\n",
    "i = 0\n",
    "while i < 10:\n",
    "    print(i)\n",
    "    i += 1\n",
    "print(\"Loop Finished\")\n"
   ]
  },
  {
   "cell_type": "code",
   "execution_count": 29,
   "id": "af3279fe-3563-497b-8fc5-cf7bab02a943",
   "metadata": {},
   "outputs": [],
   "source": [
    "def math_quiz_loop():\n",
    "    \"\"\"Function to ask a simple math question and check the answer.\"\"\"\n",
    "    \n",
    "    # Generate two random numbers\n",
    "    num1 = np.random.randint(1, 10)\n",
    "    num2 = np.random.randint(1, 10)\n",
    "    \n",
    "    # Calculate the correct answer\n",
    "    correct_answer = num1 + num2\n",
    "\n",
    "    # Initialize our termination condition\n",
    "    user_correct = False\n",
    "\n",
    "    while not user_correct:\n",
    "        # Ask the user for their answer\n",
    "        user_answer = int(input(f\"What is {num1} + {num2}? \"))\n",
    "    \n",
    "        # Check if the user's answer is correct\n",
    "        user_correct = user_answer == correct_answer\n",
    "\n",
    "        if user_correct:\n",
    "            print(\"Correct! Well done.\")\n",
    "        else:\n",
    "            print(f\"Incorrect. Guess again.\")\n"
   ]
  },
  {
   "cell_type": "code",
   "execution_count": null,
   "id": "552de587-48ea-4f59-87f5-ae8e6968ee64",
   "metadata": {},
   "outputs": [],
   "source": []
  },
  {
   "cell_type": "code",
   "execution_count": null,
   "id": "d2e85b6f-ccb0-4476-8d16-14d360d8bccd",
   "metadata": {},
   "outputs": [],
   "source": []
  },
  {
   "cell_type": "code",
   "execution_count": null,
   "id": "b12d8ae2-3897-4435-8458-c3d52516c1c5",
   "metadata": {},
   "outputs": [],
   "source": []
  },
  {
   "cell_type": "code",
   "execution_count": null,
   "id": "5e3512cb-5aed-431c-94a7-a570452e17fa",
   "metadata": {},
   "outputs": [],
   "source": []
  }
 ],
 "metadata": {
  "kernelspec": {
   "display_name": "Python 3 (ipykernel)",
   "language": "python",
   "name": "python3"
  },
  "language_info": {
   "codemirror_mode": {
    "name": "ipython",
    "version": 3
   },
   "file_extension": ".py",
   "mimetype": "text/x-python",
   "name": "python",
   "nbconvert_exporter": "python",
   "pygments_lexer": "ipython3",
   "version": "3.12.7"
  }
 },
 "nbformat": 4,
 "nbformat_minor": 5
}
