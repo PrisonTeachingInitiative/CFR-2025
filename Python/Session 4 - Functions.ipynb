{
 "cells": [
  {
   "cell_type": "raw",
   "metadata": {},
   "source": [
    "# Session 4: Functions\n"
   ]
  },
  {
   "cell_type": "markdown",
   "metadata": {},
   "source": [
    "## Part 1: Introduction to Functions "
   ]
  },
  {
   "cell_type": "markdown",
   "metadata": {},
   "source": [
    "### Example: Calculating Area of a Rectangle (do together)"
   ]
  },
  {
   "cell_type": "code",
   "execution_count": 9,
   "metadata": {},
   "outputs": [
    {
     "name": "stdout",
     "output_type": "stream",
     "text": [
      "20\n",
      "20\n",
      "42\n"
     ]
    }
   ],
   "source": [
    "lenght = 5\n",
    "width = 4\n",
    "area = lenght * width\n",
    "print(area)\n",
    "\n",
    "\n",
    "def rectangle_area(lenght, width):\n",
    "    area = lenght * width\n",
    "    return area\n",
    "area = rectangle_area(lenght, width)\n",
    "print(area)\n",
    "\n",
    "\n",
    "l = 6\n",
    "w = 7\n",
    "\n",
    "a = rectangle_area(l, w)\n",
    "print(a)\n"
   ]
  },
  {
   "cell_type": "markdown",
   "metadata": {},
   "source": [
    "### Problem 1: Celsius to Fahrenheit Converter\n",
    "Write a function `celsius_to_fahrenheit` that converts Celsius to Fahrenheit.\n",
    "Formula: \n",
    "$F = C \\times \\frac{9}{5} + 32$\n",
    "\n",
    "#### Solution:\n"
   ]
  },
  {
   "cell_type": "code",
   "execution_count": 11,
   "metadata": {},
   "outputs": [
    {
     "ename": "NameError",
     "evalue": "name 'temperature_in_C' is not defined",
     "output_type": "error",
     "traceback": [
      "\u001b[1;31m---------------------------------------------------------------------------\u001b[0m",
      "\u001b[1;31mNameError\u001b[0m                                 Traceback (most recent call last)",
      "Cell \u001b[1;32mIn[11], line 5\u001b[0m\n\u001b[0;32m      3\u001b[0m     \u001b[38;5;28;01mreturn\u001b[39;00m temperature_in_F\n\u001b[0;32m      4\u001b[0m T_celsius \u001b[38;5;241m=\u001b[39m \u001b[38;5;241m21\u001b[39m\n\u001b[1;32m----> 5\u001b[0m T_fahrenheit \u001b[38;5;241m=\u001b[39m celsius_to_fahrenheit(T_celsius)\n\u001b[0;32m      6\u001b[0m \u001b[38;5;28mprint\u001b[39m(T_fahrenheit)\n",
      "Cell \u001b[1;32mIn[11], line 2\u001b[0m, in \u001b[0;36mcelsius_to_fahrenheit\u001b[1;34m(celsius)\u001b[0m\n\u001b[0;32m      1\u001b[0m \u001b[38;5;28;01mdef\u001b[39;00m \u001b[38;5;21mcelsius_to_fahrenheit\u001b[39m(celsius):\n\u001b[1;32m----> 2\u001b[0m     temperature_in_F \u001b[38;5;241m=\u001b[39m temperature_in_C \u001b[38;5;241m*\u001b[39m (\u001b[38;5;241m9\u001b[39m\u001b[38;5;241m/\u001b[39m\u001b[38;5;241m5\u001b[39m) \u001b[38;5;241m+\u001b[39m \u001b[38;5;241m32\u001b[39m\n\u001b[0;32m      3\u001b[0m     \u001b[38;5;28;01mreturn\u001b[39;00m temperature_in_F\n",
      "\u001b[1;31mNameError\u001b[0m: name 'temperature_in_C' is not defined"
     ]
    }
   ],
   "source": [
    "def celsius_to_fahrenheit(celsius):\n",
    "    temperature_in_F = temperature_in_C * (9/5) + 32\n",
    "    return temperature_in_F\n",
    "T_celsius = 21\n",
    "T_fahrenheit = celsius_to_fahrenheit(T_celsius)\n",
    "print(T_fahrenheit)"
   ]
  },
  {
   "cell_type": "code",
   "execution_count": 24,
   "metadata": {},
   "outputs": [
    {
     "name": "stdout",
     "output_type": "stream",
     "text": [
      "69.80000000000001\n"
     ]
    }
   ],
   "source": [
    "def celsius_to_fahrenheit(celsius):\n",
    "    # 'celsius' is the name of the parameter passed into the function\n",
    "    temperature_in_F = celsius * (9/5) + 32\n",
    "    return temperature_in_F\n",
    "\n",
    "T_celsius = 21\n",
    "T_fahrenheit = celsius_to_fahrenheit(T_celsius)\n",
    "print(T_fahrenheit)"
   ]
  },
  {
   "cell_type": "markdown",
   "metadata": {},
   "source": [
    "### Problem 2: Calculate Average\n",
    "Write a function `average` that takes three numbers and returns the average.\n",
    "\n",
    "#### Solution:\n"
   ]
  },
  {
   "cell_type": "code",
   "execution_count": 16,
   "metadata": {},
   "outputs": [
    {
     "name": "stdout",
     "output_type": "stream",
     "text": [
      "5.0\n"
     ]
    }
   ],
   "source": [
    "def average_function(a,b,c):\n",
    "    average = (a + b + c)/3\n",
    "    return average\n",
    "\n",
    "num1 = 5\n",
    "num2 = 3\n",
    "num3 = 7\n",
    "\n",
    "\n",
    "average = average_function(num1, num2, num3)\n",
    "print(average)"
   ]
  },
  {
   "cell_type": "markdown",
   "metadata": {},
   "source": [
    "### Problem 3: Max of two numbers\n",
    "Write a function that takes two numbers and return the larger of them.\n",
    "\n",
    "#### Solution:"
   ]
  },
  {
   "cell_type": "code",
   "execution_count": 23,
   "metadata": {},
   "outputs": [
    {
     "data": {
      "text/plain": [
       "77"
      ]
     },
     "execution_count": 23,
     "metadata": {},
     "output_type": "execute_result"
    }
   ],
   "source": [
    "\n",
    "\n",
    "def max_of_two(input1, input2):\n",
    "    if input1 > input2:\n",
    "        return input1\n",
    "    else:\n",
    "        return input2\n",
    "max_of_two(input1 = 77, input2 = 6)\n"
   ]
  },
  {
   "cell_type": "markdown",
   "metadata": {},
   "source": [
    "## Part 4: Function Scope and Best Practices (30 minutes)"
   ]
  },
  {
   "cell_type": "markdown",
   "metadata": {},
   "source": [
    "## Problem 4: Convert and compare temperatures\n",
    "Write code that takes two variables, `temp_in_celsius` and `temp_in_fahrenheit`, and tells you which one is hotter.\n",
    "\n",
    "Hint: You can use the functions you defined earlier.\n",
    "\n",
    "### Solution:"
   ]
  },
  {
   "cell_type": "code",
   "execution_count": 31,
   "metadata": {},
   "outputs": [
    {
     "name": "stdout",
     "output_type": "stream",
     "text": [
      "69.80000000000001\n",
      "5.0\n"
     ]
    }
   ],
   "source": [
    "def celsius_to_fahrenheit(celsius):\n",
    "    # 'celsius' is the name of the parameter passed into the function\n",
    "    temperature_in_F = celsius * (9/5) + 32\n",
    "    return temperature_in_F\n",
    "\n",
    "T_celsius = 21\n",
    "T_fahrenheit = celsius_to_fahrenheit(T_celsius)\n",
    "print(T_fahrenheit)\n",
    "\n",
    "def average_function(a,b,c):\n",
    "    average = (a + b + c)/3\n",
    "    return average\n",
    "\n",
    "num1 = 5\n",
    "num2 = 3\n",
    "num3 = 7\n",
    "\n",
    "\n",
    "average = average_function(num1, num2, num3)\n",
    "print(average)\n",
    "\n",
    "temp_in_celsius = 30\n",
    "temp_un_fahrenheit = 80\n",
    "\n",
    "converted_celsius = celsius_to_fahrenheit(temp_in_celsius)"
   ]
  },
  {
   "cell_type": "markdown",
   "metadata": {},
   "source": [
    "## Conclusion and Q&A (10 minutes)\n",
    "- Review the key concepts covered: defining functions, parameters, return values, scope, and best practices.\n",
    "- Encourage practice and experimentation.\n",
    "- Open the floor for any questions and further clarifications.\n"
   ]
  },
  {
   "cell_type": "markdown",
   "metadata": {},
   "source": []
  }
 ],
 "metadata": {
  "kernelspec": {
   "display_name": "Python 3 (ipykernel)",
   "language": "python",
   "name": "python3"
  },
  "language_info": {
   "codemirror_mode": {
    "name": "ipython",
    "version": 3
   },
   "file_extension": ".py",
   "mimetype": "text/x-python",
   "name": "python",
   "nbconvert_exporter": "python",
   "pygments_lexer": "ipython3",
   "version": "3.12.7"
  }
 },
 "nbformat": 4,
 "nbformat_minor": 4
}
