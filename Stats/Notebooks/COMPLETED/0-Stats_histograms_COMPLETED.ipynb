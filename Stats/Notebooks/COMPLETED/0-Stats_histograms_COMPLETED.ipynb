{
 "cells": [
  {
   "cell_type": "markdown",
   "id": "9020e3db",
   "metadata": {},
   "source": [
    "# 0 - Introduction to Statistics: Mean, Median, Mode, and Histograms\n",
    "These notebooks will supplement our in-class slides and we will work through some of the examples together in class"
   ]
  },
  {
   "cell_type": "markdown",
   "id": "193ffa10",
   "metadata": {},
   "source": [
    "## 1. Measures of Central Tendency (Mean, Median, Mode)"
   ]
  },
  {
   "cell_type": "markdown",
   "id": "474ee184",
   "metadata": {},
   "source": [
    "First, let's import the libraries we'll need:"
   ]
  },
  {
   "cell_type": "code",
   "execution_count": 1,
   "id": "2535e266",
   "metadata": {},
   "outputs": [],
   "source": [
    "import numpy as np\n",
    "import matplotlib.pyplot as plt\n",
    "from scipy import stats\n",
    "from scipy.stats import norm, uniform, binom, poisson, expon, t, chi2\n",
    "import statistics"
   ]
  },
  {
   "cell_type": "markdown",
   "id": "a3b2e0ac",
   "metadata": {},
   "source": [
    "Let's create a simple dataset to work through examples of some of the things we'll cover in class"
   ]
  },
  {
   "cell_type": "code",
   "execution_count": 2,
   "id": "508fc538",
   "metadata": {},
   "outputs": [
    {
     "name": "stdout",
     "output_type": "stream",
     "text": [
      "Our dataset: [10, 12, 15, 12, 18, 20, 12, 25, 30, 12, 35, 40, 12, 50]\n"
     ]
    }
   ],
   "source": [
    "data = [10, 12, 15, 12, 18, 20, 12, 25, 30, 12, 35, 40, 12, 50]\n",
    "print(\"Our dataset:\", data)"
   ]
  },
  {
   "cell_type": "markdown",
   "id": "966b9ee6",
   "metadata": {},
   "source": [
    "### Arithmetic Mean\n",
    "Arithmetic Mean: The typical meaning of \"average\". Add all numbers and divide by how many numbers there are:\n",
    "\n",
    "\n",
    "# $\\bar{x}=\\dfrac{\\sum_i^N x_i}{N}$"
   ]
  },
  {
   "cell_type": "code",
   "execution_count": 3,
   "id": "bafa4baf",
   "metadata": {},
   "outputs": [
    {
     "name": "stdout",
     "output_type": "stream",
     "text": [
      "Arithmetic Mean: 21.642857142857142\n"
     ]
    }
   ],
   "source": [
    "#We can find the arithmetic mean manually by looping over the elements in our dataset\n",
    "\n",
    "#declare a variable \"summed_values\" that is initialized to zero\n",
    "summed_values=0.0\n",
    "for i in range (0, len(data)):\n",
    "    #Add each value in our dataset to summed_values as we loop through the data array\n",
    "    summed_values = summed_values + data[i]\n",
    "    #You can also do the following for shorthand\n",
    "    #summed_values += data[i]\n",
    "\n",
    "#divide summed_values by the total number of values in data\n",
    "total_number_of_values=len(data)\n",
    "average_value = summed_values/total_number_of_values\n",
    "print(\"Arithmetic Mean:\", average_value)"
   ]
  },
  {
   "cell_type": "code",
   "execution_count": 4,
   "id": "9a99c67f",
   "metadata": {},
   "outputs": [
    {
     "name": "stdout",
     "output_type": "stream",
     "text": [
      "Arithmetic Mean: 21.642857142857142\n"
     ]
    }
   ],
   "source": [
    "#We can also use the numpy library to find the arithmetic mean, using the np.mean() function\n",
    "\n",
    "mean_arithmetic = np.mean(data)\n",
    "print(\"Arithmetic Mean:\", mean_arithmetic)"
   ]
  },
  {
   "cell_type": "markdown",
   "id": "08dd0bb0",
   "metadata": {},
   "source": [
    "### Median\n",
    "Median: the middle value of the dataset when the numbers are arranged from smallest to largest"
   ]
  },
  {
   "cell_type": "code",
   "execution_count": 5,
   "id": "47bb7a07",
   "metadata": {},
   "outputs": [
    {
     "name": "stdout",
     "output_type": "stream",
     "text": [
      "Median:  16.5\n"
     ]
    }
   ],
   "source": [
    "# We can take advantage of the np.median() function to find the median\n",
    "\n",
    "median = np.median(data)\n",
    "print(\"Median: \", median)"
   ]
  },
  {
   "cell_type": "markdown",
   "id": "3a151312",
   "metadata": {},
   "source": [
    "Note that the median is a number that does not appear in the data. That means that we took the two middle numbers and averaged them to find the median!"
   ]
  },
  {
   "cell_type": "markdown",
   "id": "91cb39b6",
   "metadata": {},
   "source": [
    "### Mode\n",
    "Mode: the most popular value in the dataset (the one that occurs the most times)"
   ]
  },
  {
   "cell_type": "code",
   "execution_count": 6,
   "id": "0b70df57",
   "metadata": {},
   "outputs": [
    {
     "name": "stdout",
     "output_type": "stream",
     "text": [
      "Mode:  12\n"
     ]
    }
   ],
   "source": [
    "#We can use the statistics.mode() function to find the mode\n",
    "\n",
    "mode = statistics.mode(data)\n",
    "print(\"Mode: \", mode)"
   ]
  },
  {
   "cell_type": "markdown",
   "id": "1015015e",
   "metadata": {},
   "source": [
    "## 2. Histograms for visualizing data distributions\n",
    "A histogram shows how frequently values occur in different ranges. It offers a great tool for understanding data distributions, ranges, and more. Below we introduce histograms and "
   ]
  },
  {
   "cell_type": "code",
   "execution_count": 7,
   "id": "fd96dcf2",
   "metadata": {},
   "outputs": [
    {
     "data": {
      "image/png": "[encoded data removed]",
      "text/plain": [
       "<Figure size 576x360 with 1 Axes>"
      ]
     },
     "metadata": {
      "needs_background": "light"
     },
     "output_type": "display_data"
    }
   ],
   "source": [
    "#We use matplotlib to create a histogram of our data\n",
    "plt.figure(figsize=(8,5))\n",
    "plt.hist(data, bins=7, color='skyblue', edgecolor='black')\n",
    "plt.title(\"Histogram of Data\")\n",
    "plt.xlabel(\"Value\")\n",
    "plt.ylabel(\"Frequency\")\n",
    "plt.show()\n"
   ]
  },
  {
   "cell_type": "markdown",
   "id": "56f1c4d7",
   "metadata": {},
   "source": [
    "### 🔍 EXERCISE 1: Try changing the data list. How do the mean, median, and mode change? How does the histogram change?"
   ]
  },
  {
   "cell_type": "code",
   "execution_count": 8,
   "id": "0d68bea7",
   "metadata": {},
   "outputs": [
    {
     "name": "stdout",
     "output_type": "stream",
     "text": [
      "Mean (original data):  21.642857142857142\n",
      "Median (original data):  16.5\n",
      "Mode (original data):  12\n"
     ]
    },
    {
     "data": {
      "image/png": "[encoded data removed]",
      "text/plain": [
       "<Figure size 576x360 with 1 Axes>"
      ]
     },
     "metadata": {
      "needs_background": "light"
     },
     "output_type": "display_data"
    },
    {
     "name": "stdout",
     "output_type": "stream",
     "text": [
      "Mean (new data):  27.214285714285715\n",
      "Median (new data):  28.5\n",
      "Mode (new data):  40\n"
     ]
    },
    {
     "data": {
      "image/png": "[encoded data removed]",
      "text/plain": [
       "<Figure size 576x360 with 1 Axes>"
      ]
     },
     "metadata": {
      "needs_background": "light"
     },
     "output_type": "display_data"
    }
   ],
   "source": [
    "#first, let's copy the original data into a new list and calculate the mean, median, and mode\n",
    "original_data = [10, 12, 15, 12, 18, 20, 12, 25, 30, 12, 35, 40, 12, 50]\n",
    "mean_og_data = np.mean(original_data)\n",
    "median_og_data = statistics.median(original_data)\n",
    "mode_og_data = statistics.mode(original_data)\n",
    "\n",
    "#next, let's make a new data list of the same length as the original data. Calculate mean, median, mode\n",
    "new_data = [40, 3, 45, 2, 28, 19, 81, 25, 1, 0, 35, 40, 29, 33]\n",
    "mean_new_data = np.mean(new_data)\n",
    "median_new_data = statistics.median(new_data)\n",
    "mode_new_data = statistics.mode(new_data)\n",
    "\n",
    "#Print the original data statistics\n",
    "print(\"Mean (original data): \", mean_og_data)\n",
    "print(\"Median (original data): \", median_og_data)\n",
    "print(\"Mode (original data): \", mode_og_data)\n",
    "\n",
    "#Use matplotlib to create a histogram of our original data\n",
    "plt.figure(figsize=(8,5))\n",
    "plt.hist(original_data, bins=7, color='skyblue', edgecolor='black')\n",
    "plt.title(\"Histogram of Original Data\")\n",
    "plt.xlabel(\"Value\")\n",
    "plt.ylabel(\"Frequency\")\n",
    "plt.show()\n",
    "\n",
    "#Print the new data stats\n",
    "print(\"Mean (new data): \", mean_new_data)\n",
    "print(\"Median (new data): \", median_new_data)\n",
    "print(\"Mode (new data): \", mode_new_data)\n",
    "\n",
    "#Use matplotlib to create a histogram of our new data\n",
    "plt.figure(figsize=(8,5))\n",
    "plt.hist(new_data, bins=7, color='lightgreen', edgecolor='black')\n",
    "plt.title(\"Histogram of New Data\")\n",
    "plt.xlabel(\"Value\")\n",
    "plt.ylabel(\"Frequency\")\n",
    "plt.show()"
   ]
  },
  {
   "cell_type": "markdown",
   "id": "8b0f1658",
   "metadata": {},
   "source": [
    "### 🔍 EXERCISE 2: Add a very large number (like 500) to the data. What happens to the mean, median, and mode? Which one changes the most? Why? How does the histogram change?"
   ]
  },
  {
   "cell_type": "code",
   "execution_count": 9,
   "id": "f258b531",
   "metadata": {},
   "outputs": [
    {
     "name": "stdout",
     "output_type": "stream",
     "text": [
      "Mean (new data):  58.733333333333334\n",
      "Median (new data):  29\n",
      "Mode (new data):  ModeResult(mode=array([40]), count=array([2]))\n"
     ]
    },
    {
     "data": {
      "image/png": "[encoded data removed]",
      "text/plain": [
       "<Figure size 576x360 with 1 Axes>"
      ]
     },
     "metadata": {
      "needs_background": "light"
     },
     "output_type": "display_data"
    }
   ],
   "source": [
    "#Use the append function to add a value to the end of a list\n",
    "new_data.append(500)\n",
    "mean_new_data = np.mean(new_data)\n",
    "median_new_data = statistics.median(new_data)\n",
    "mode_new_data = stats.mode(new_data)\n",
    "\n",
    "#Print the new data stats\n",
    "print(\"Mean (new data): \", mean_new_data)\n",
    "print(\"Median (new data): \", median_new_data)\n",
    "print(\"Mode (new data): \", mode_new_data)\n",
    "\n",
    "#Use matplotlib to create a histogram of our new data\n",
    "plt.figure(figsize=(8,5))\n",
    "plt.hist(new_data, bins=7, color='lightgreen', edgecolor='black')\n",
    "plt.title(\"Histogram of New Data\")\n",
    "plt.xlabel(\"Value\")\n",
    "plt.ylabel(\"Frequency\")\n",
    "plt.show()"
   ]
  },
  {
   "cell_type": "markdown",
   "id": "d8be50ac",
   "metadata": {},
   "source": [
    "Above we appended an ***outlier*** number (500) to the end of the array with the .append() function. You can see this significantly changed the mean (from 27.2 to 58.7), but the median was not too affected (from 28.5 to 29). The mode was left unaffected by introducing a single outlier."
   ]
  },
  {
   "cell_type": "markdown",
   "id": "ce1d0d3f",
   "metadata": {},
   "source": [
    "### 🔍 EXERCISE 3: Try creating your own dataset with numbers that all occur the same number of times. What is the mode in that case? What does the histogram look like?)"
   ]
  },
  {
   "cell_type": "code",
   "execution_count": 22,
   "id": "904a3e21",
   "metadata": {},
   "outputs": [
    {
     "name": "stdout",
     "output_type": "stream",
     "text": [
      "ModeResult(mode=array([1]), count=array([3]))\n"
     ]
    },
    {
     "data": {
      "image/png": "[encoded data removed]",
      "text/plain": [
       "<Figure size 576x360 with 1 Axes>"
      ]
     },
     "metadata": {
      "needs_background": "light"
     },
     "output_type": "display_data"
    }
   ],
   "source": [
    "#Here we create a dataset that has several modes. This data has 4 different modes (40, 30, 1, and 60)\n",
    "#Each number occurs 4 different times\n",
    "new_data = [10, 10, 10, 20, 20, 20, 1, 1, 1, 30, 30, 30]\n",
    "mode_new_data = stats.mode(new_data)\n",
    "print(mode_new_data)\n",
    "\n",
    "plt.figure(figsize=(8,5))\n",
    "plt.hist(new_data, bins=4, color='lightgreen', edgecolor='black')\n",
    "plt.title(\"Histogram of New Data\")\n",
    "plt.xlabel(\"Value\")\n",
    "plt.ylabel(\"Frequency\")\n",
    "plt.show()"
   ]
  },
  {
   "cell_type": "markdown",
   "id": "3f40be72",
   "metadata": {},
   "source": [
    "This exercise was meant to test what a dataset with the same number of occurrences in each datapoint looks like. This is what is a called a \"uniform\" distribution (also called a \"flat\" distribution) because all data appears the same number of times."
   ]
  },
  {
   "cell_type": "markdown",
   "id": "0e171524",
   "metadata": {},
   "source": [
    "### 🔍 EXERCISE 4: Try plotting a histogram of the following data. \n",
    "\n",
    "### Play around with the number of trials and with more or fewer bins (change 'bins=' to a different number). \n",
    "\n",
    "### How does it change the shape of the histogram? What do you notice as you increase the number of bins?\n",
    "\n",
    "### Does this look like any of the distributions we looked at in class?"
   ]
  },
  {
   "cell_type": "code",
   "execution_count": 23,
   "id": "995fcf2b",
   "metadata": {},
   "outputs": [
    {
     "data": {
      "image/png": "[encoded data removed]",
      "text/plain": [
       "<Figure size 576x360 with 1 Axes>"
      ]
     },
     "metadata": {
      "needs_background": "light"
     },
     "output_type": "display_data"
    },
    {
     "data": {
      "image/png": "[encoded data removed]",
      "text/plain": [
       "<Figure size 576x360 with 1 Axes>"
      ]
     },
     "metadata": {
      "needs_background": "light"
     },
     "output_type": "display_data"
    },
    {
     "data": {
      "image/png": "[encoded data removed]",
      "text/plain": [
       "<Figure size 576x360 with 1 Axes>"
      ]
     },
     "metadata": {
      "needs_background": "light"
     },
     "output_type": "display_data"
    },
    {
     "data": {
      "image/png": "[encoded data removed]",
      "text/plain": [
       "<Figure size 576x360 with 1 Axes>"
      ]
     },
     "metadata": {
      "needs_background": "light"
     },
     "output_type": "display_data"
    }
   ],
   "source": [
    "# Parameters\n",
    "n = 50        # number of trials\n",
    "p = 0.5       # probability of success\n",
    "size = 1000  # number of experiments (sample size)\n",
    "\n",
    "# Generate binomial samples\n",
    "data = np.random.binomial(n, p, size)\n",
    "\n",
    "#Plot the histograms\n",
    "plt.figure(figsize=(8,5))\n",
    "plt.hist(data, bins=1, color='lightyellow', edgecolor='black')\n",
    "plt.title(\"Histogram of New Data\")\n",
    "plt.xlabel(\"Value\")\n",
    "plt.ylabel(\"Frequency\")\n",
    "plt.show()\n",
    "\n",
    "plt.figure(figsize=(8,5))\n",
    "plt.hist(data, bins=7, color='lightyellow', edgecolor='black')\n",
    "plt.title(\"Histogram of New Data\")\n",
    "plt.xlabel(\"Value\")\n",
    "plt.ylabel(\"Frequency\")\n",
    "plt.show()\n",
    "\n",
    "plt.figure(figsize=(8,5))\n",
    "plt.hist(data, bins=20, color='lightyellow', edgecolor='black')\n",
    "plt.title(\"Histogram of New Data\")\n",
    "plt.xlabel(\"Value\")\n",
    "plt.ylabel(\"Frequency\")\n",
    "plt.show()\n",
    "\n",
    "plt.figure(figsize=(8,5))\n",
    "plt.hist(data, bins=40, color='lightyellow', edgecolor='black')\n",
    "plt.title(\"Histogram of New Data\")\n",
    "plt.xlabel(\"Value\")\n",
    "plt.ylabel(\"Frequency\")\n",
    "plt.show()"
   ]
  },
  {
   "cell_type": "markdown",
   "id": "451d64a1",
   "metadata": {},
   "source": [
    "Changing the number of bins gives us a closer look at the distribution.\n",
    "- Using too few bins (1) makes the data look uniform, which it is not\n",
    "- Using an intermediate number of bins (7 or 20) gives a good sense of the data's distribution and allows us to get a sense of where the mode might be (the peak), the median might be (close to the centr of the distribution), and where the mean might be (for a normal distribution, this is close to the median)\n",
    "- Using too many bins leads to gaps in between the data bins, which makes it harder to see and understand"
   ]
  },
  {
   "cell_type": "markdown",
   "id": "883fceb9",
   "metadata": {},
   "source": [
    "## BONUS CONTENT"
   ]
  },
  {
   "cell_type": "markdown",
   "id": "df0f6367",
   "metadata": {},
   "source": [
    "### Geometric Mean\n",
    "Geometric Mean: Useful when averaging growth rates (percent changes, population growths, investment returns, etc.). It's the nth root of the product of numbers.\n",
    "\n",
    "# $\\bar{x} = \\sqrt[n]{x_1 x_2 \\cdots x_n}$"
   ]
  },
  {
   "cell_type": "code",
   "execution_count": 10,
   "id": "219d8632",
   "metadata": {},
   "outputs": [
    {
     "name": "stdout",
     "output_type": "stream",
     "text": [
      "Geometric Mean: 18.83171832219404\n"
     ]
    }
   ],
   "source": [
    "#We can find the geometric mean manually by looping over the elements in our dataset\n",
    "\n",
    "#declare a variable \"multiplied_values\" that is initialized to 1\n",
    "multiplied_values=1.0\n",
    "for i in range (0, len(data)):\n",
    "    #Add each value in our dataset to summed_values as we loop through the data array\n",
    "    multiplied_values *= data[i]\n",
    "\n",
    "#find the nth root of the multiplied values - the nth rooth is the same as raising something to the 1/n power\n",
    "geom_average_value = pow(multiplied_values,1./len(data))\n",
    "print(\"Geometric Mean:\", geom_average_value)"
   ]
  },
  {
   "cell_type": "code",
   "execution_count": 6,
   "id": "62dfc988",
   "metadata": {},
   "outputs": [
    {
     "name": "stdout",
     "output_type": "stream",
     "text": [
      "Geometric Mean: 18.831718322194043\n"
     ]
    }
   ],
   "source": [
    "#We can also use the stats library to find the arithmetic mean, using the stats.gmean() function\n",
    "\n",
    "mean_geometric = stats.gmean(data)\n",
    "print(\"Geometric Mean:\", mean_geometric)"
   ]
  },
  {
   "cell_type": "markdown",
   "id": "af43c96e",
   "metadata": {},
   "source": [
    " ### Harmonic Mean\n",
    "Harmonic Mean: used when averaging rates or ratios (e.g., speed). It is the reciprocal of the average of reciprocals\n",
    "\n",
    "# $\\bar{x} = \\dfrac{n}{\\frac{1}{x_1} + \\frac{1}{x_2} + \\cdots \\frac{1}{x_n}}$"
   ]
  },
  {
   "cell_type": "markdown",
   "id": "317d8d6c",
   "metadata": {},
   "source": [
    "### 🔍 EXERCISE: find the harmonic mean of the data set manually using a for loop"
   ]
  },
  {
   "cell_type": "code",
   "execution_count": 26,
   "id": "07dc5678",
   "metadata": {},
   "outputs": [
    {
     "name": "stdout",
     "output_type": "stream",
     "text": [
      "24.583581407274842\n"
     ]
    }
   ],
   "source": [
    "#Make an empty variable to hold the adding up of all of the reciprocals (the denominator, what is on the bottom)\n",
    "#of the harmonic mean\n",
    "reciprocal_sum = 0.0\n",
    "#Loop over the data array and follow the formula for calculating the harmonic mean\n",
    "for i in range(0, len(data)):\n",
    "    reciprocal = 1./data[i]\n",
    "    reciprocal_sum += reciprocal\n",
    "#the harmonic mean is then the total number of data points (given by len(data)), \n",
    "#divided by the sum of reciprocals\n",
    "harmonic_mean = len(data)/reciprocal_sum\n",
    "print(harmonic_mean)"
   ]
  },
  {
   "cell_type": "code",
   "execution_count": 27,
   "id": "c8925175",
   "metadata": {},
   "outputs": [
    {
     "name": "stdout",
     "output_type": "stream",
     "text": [
      "Harmonic Mean: 24.583581407274934\n"
     ]
    }
   ],
   "source": [
    "#you can check your answer by using the stats function stats.hmean() below\n",
    "mean_harmonic = stats.hmean(data)\n",
    "print(\"Harmonic Mean:\", mean_harmonic)"
   ]
  },
  {
   "cell_type": "code",
   "execution_count": null,
   "id": "542d2d63",
   "metadata": {},
   "outputs": [],
   "source": []
  }
 ],
 "metadata": {
  "kernelspec": {
   "display_name": "Python 3",
   "language": "python",
   "name": "python3"
  },
  "language_info": {
   "codemirror_mode": {
    "name": "ipython",
    "version": 3
   },
   "file_extension": ".py",
   "mimetype": "text/x-python",
   "name": "python",
   "nbconvert_exporter": "python",
   "pygments_lexer": "ipython3",
   "version": "3.6.8"
  }
 },
 "nbformat": 4,
 "nbformat_minor": 5
}
