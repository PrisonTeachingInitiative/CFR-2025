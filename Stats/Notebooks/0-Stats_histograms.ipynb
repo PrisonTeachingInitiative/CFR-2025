{
 "cells": [
  {
   "cell_type": "markdown",
   "id": "9020e3db",
   "metadata": {},
   "source": [
    "# 0 - Introduction to Statistics: Mean, Median, Mode, and Histograms\n",
    "These notebooks will supplement our in-class slides and we will work through some of the examples together in class"
   ]
  },
  {
   "cell_type": "markdown",
   "id": "193ffa10",
   "metadata": {},
   "source": [
    "## 1. Measures of Central Tendency (Mean, Median, Mode)"
   ]
  },
  {
   "cell_type": "markdown",
   "id": "474ee184",
   "metadata": {},
   "source": [
    "First, let's import the libraries we'll need:"
   ]
  },
  {
   "cell_type": "code",
   "execution_count": 5,
   "id": "2535e266",
   "metadata": {},
   "outputs": [],
   "source": [
    "import numpy as np\n",
    "import matplotlib.pyplot as plt\n",
    "from scipy import stats\n",
    "from scipy.stats import norm, uniform, binom, poisson, expon, t, chi2"
   ]
  },
  {
   "cell_type": "markdown",
   "id": "a3b2e0ac",
   "metadata": {},
   "source": [
    "Let's create a simple dataset to work through examples of some of the things we'll cover in class"
   ]
  },
  {
   "cell_type": "code",
   "execution_count": 4,
   "id": "508fc538",
   "metadata": {},
   "outputs": [
    {
     "name": "stdout",
     "output_type": "stream",
     "text": [
      "Our dataset: [10, 12, 15, 12, 18, 20, 12, 25, 30, 12, 35, 40, 12, 50]\n"
     ]
    }
   ],
   "source": [
    "data = [10, 12, 15, 12, 18, 20, 12, 25, 30, 12, 35, 40, 12, 50]\n",
    "print(\"Our dataset:\", data)"
   ]
  },
  {
   "cell_type": "markdown",
   "id": "966b9ee6",
   "metadata": {},
   "source": [
    "### Arithmetic Mean\n",
    "Arithmetic Mean: The typical meaning of \"average\". Add all numbers and divide by how many numbers there are:\n",
    "\n",
    "\n",
    "# $\\bar{x}=\\dfrac{\\sum_i^N x_i}{N}$"
   ]
  },
  {
   "cell_type": "code",
   "execution_count": 10,
   "id": "bafa4baf",
   "metadata": {},
   "outputs": [
    {
     "name": "stdout",
     "output_type": "stream",
     "text": [
      "Arithmetic Mean: 21.642857142857142\n"
     ]
    }
   ],
   "source": [
    "#We can find the arithmetic mean manually by looping over the elements in our dataset\n",
    "\n",
    "#declare a variable \"summed_values\" that is initialized to zero\n",
    "summed_values=0.0\n",
    "for i in range (0, len(data)):\n",
    "    #Add each value in our dataset to summed_values as we loop through the data array\n",
    "    summed_values += data[i]\n",
    "\n",
    "#divide summed_values by the total number of values in data\n",
    "average_value = summed_values/len(data)\n",
    "print(\"Arithmetic Mean:\", average_value)"
   ]
  },
  {
   "cell_type": "code",
   "execution_count": 7,
   "id": "9a99c67f",
   "metadata": {},
   "outputs": [
    {
     "name": "stdout",
     "output_type": "stream",
     "text": [
      "Arithmetic Mean: 21.642857142857142\n"
     ]
    }
   ],
   "source": [
    "#We can also use the numpy library to find the arithmetic mean, using the np.mean() function\n",
    "\n",
    "mean_arithmetic = np.mean(data)\n",
    "print(\"Arithmetic Mean:\", mean_arithmetic)"
   ]
  },
  {
   "cell_type": "markdown",
   "id": "2130a827",
   "metadata": {},
   "source": [
    "### Geometric Mean\n",
    "Geometric Mean: Useful when averaging growth rates (percent changes, population growths, investment returns, etc.). It's the nth root of the product of numbers.\n",
    "\n",
    "# $\\bar{x} = \\sqrt[n]{x_1 x_2 \\cdots x_n}$"
   ]
  },
  {
   "cell_type": "code",
   "execution_count": 11,
   "id": "d81c84a0",
   "metadata": {},
   "outputs": [
    {
     "name": "stdout",
     "output_type": "stream",
     "text": [
      "Geometric Mean: 18.83171832219404\n"
     ]
    }
   ],
   "source": [
    "#We can find the geometric mean manually by looping over the elements in our dataset\n",
    "\n",
    "#declare a variable \"multiplied_values\" that is initialized to 1\n",
    "multiplied_values=1.0\n",
    "for i in range (0, len(data)):\n",
    "    #Add each value in our dataset to summed_values as we loop through the data array\n",
    "    multiplied_values *= data[i]\n",
    "\n",
    "#find the nth root of the multiplied values - the nth rooth is the same as raising something to the 1/n power\n",
    "geom_average_value = pow(multiplied_values,1./len(data))\n",
    "print(\"Geometric Mean:\", geom_average_value)"
   ]
  },
  {
   "cell_type": "code",
   "execution_count": 12,
   "id": "801b1c02",
   "metadata": {},
   "outputs": [
    {
     "name": "stdout",
     "output_type": "stream",
     "text": [
      "Geometric Mean: 18.831718322194043\n"
     ]
    }
   ],
   "source": [
    "#We can also use the stats library to find the arithmetic mean, using the stats.gmean() function\n",
    "\n",
    "mean_geometric = stats.gmean(data)\n",
    "print(\"Geometric Mean:\", mean_geometric)"
   ]
  },
  {
   "cell_type": "markdown",
   "id": "414b85b8",
   "metadata": {},
   "source": [
    "### Harmonic Mean\n",
    "Harmonic Mean: used when averaging rates or ratios (e.g., speed). It is the reciprocal of the average of reciprocals\n",
    "\n",
    "# $\\bar{x} = \\dfrac{n}{\\frac{1}{x_1} + \\frac{1}{x_2} + \\cdots \\frac{1}{x_n}}$"
   ]
  },
  {
   "cell_type": "markdown",
   "id": "0d14412f",
   "metadata": {
    "jp-MarkdownHeadingCollapsed": true
   },
   "source": [
    "### 🔍 EXERCISE 1: find the harmonic mean of the data set manually using a for loop"
   ]
  },
  {
   "cell_type": "code",
   "execution_count": null,
   "id": "916325c9",
   "metadata": {},
   "outputs": [],
   "source": [
    "#Loop over the data array and follow the formula for calculating the harmonic mean"
   ]
  },
  {
   "cell_type": "code",
   "execution_count": 14,
   "id": "64fb4798",
   "metadata": {},
   "outputs": [
    {
     "name": "stdout",
     "output_type": "stream",
     "text": [
      "Harmonic Mean: 16.750546007026873\n"
     ]
    }
   ],
   "source": [
    "#you can check your answer by using the stats function stats.hmean() below\n",
    "mean_harmonic = stats.hmean(data)\n",
    "print(\"Harmonic Mean:\", mean_harmonic)"
   ]
  },
  {
   "cell_type": "markdown",
   "id": "97a1f4d2",
   "metadata": {},
   "source": [
    "## 2. Histograms for visualizing data distributions\n",
    "A histogram shows how frequently values occur in different ranges. It offers a great tool for understanding data distributions, ranges, and more. Below we introduce histograms and "
   ]
  },
  {
   "cell_type": "code",
   "execution_count": 16,
   "id": "fd96dcf2",
   "metadata": {},
   "outputs": [
    {
     "name": "stdout",
     "output_type": "stream",
     "text": [
      "A histogram shows how frequently values occur in different ranges.\n"
     ]
    },
    {
     "data": {
      "image/png": "[encoded data removed]",
      "text/plain": [
       "<Figure size 576x360 with 1 Axes>"
      ]
     },
     "metadata": {
      "needs_background": "light"
     },
     "output_type": "display_data"
    }
   ],
   "source": [
    "#We use matplotlib to create a histogram of our data\n",
    "plt.figure(figsize=(8,5))\n",
    "plt.hist(data, bins=7, color='skyblue', edgecolor='black')\n",
    "plt.title(\"Histogram of Data\")\n",
    "plt.xlabel(\"Value\")\n",
    "plt.ylabel(\"Frequency\")\n",
    "plt.show()\n"
   ]
  },
  {
   "cell_type": "markdown",
   "id": "56f1c4d7",
   "metadata": {},
   "source": [
    "### 🔍 EXERCISE 2: Try changing the data list. How do the mean, median, and mode change? How does the histogram change?"
   ]
  },
  {
   "cell_type": "code",
   "execution_count": 13,
   "id": "0d68bea7",
   "metadata": {},
   "outputs": [
    {
     "name": "stdout",
     "output_type": "stream",
     "text": [
      "Our dataset: [0, 1, 2, 3, 3, 4, 5, 5, 5, 10, 10, 12, 15, 12, 18, 20, 12, 25, 30, 12, 35, 40, 12, 50, 55, 60, 65, 70, 75, 80, 85, 90, 95, 98, 99, 100]\n"
     ]
    }
   ],
   "source": [
    "data = [0, 1, 2, 3, 3, 4, 5, 5, 5, 10, 10, 12, 15, 12, 18, 20, 12, 25, 30, 12, 35, 40, 12, 50, 55, 60, 65, 70, 75, 80, 85, 90, 95, 98, 99, 100]\n",
    "print(\"Our dataset:\", data)"
   ]
  },
  {
   "cell_type": "code",
   "execution_count": 14,
   "id": "8eb8b775-9be5-4043-a9a6-3a062de39365",
   "metadata": {},
   "outputs": [
    {
     "name": "stdout",
     "output_type": "stream",
     "text": [
      "Arithmetic Mean: 36.47222222222222\n"
     ]
    }
   ],
   "source": [
    "mean_arithmetic = np.mean(data)\n",
    "print(\"Arithmetic Mean:\", mean_arithmetic)"
   ]
  },
  {
   "cell_type": "code",
   "execution_count": 15,
   "id": "9fd98851-6280-4367-849c-3a1be5f59b52",
   "metadata": {},
   "outputs": [
    {
     "data": {
      "image/png": "[encoded data removed]",
      "text/plain": [
       "<Figure size 800x500 with 1 Axes>"
      ]
     },
     "metadata": {},
     "output_type": "display_data"
    }
   ],
   "source": [
    "#We use matplotlib to create a histogram of our data\n",
    "plt.figure(figsize=(8,5))\n",
    "plt.hist(data, bins=7, color='skyblue', edgecolor='red')\n",
    "plt.title(\"Histogram of Data\")\n",
    "plt.xlabel(\"Value\")\n",
    "plt.ylabel(\"Frequency\")\n",
    "plt.show()\n"
   ]
  },
  {
   "cell_type": "markdown",
   "id": "8b0f1658",
   "metadata": {},
   "source": [
    "### 🔍 EXERCISE 3: Add a very large number (like 500) to the data. What happens to the mean, median, and mode? Which one changes the most? Why? How does the histogram change?"
   ]
  },
  {
   "cell_type": "code",
   "execution_count": 16,
   "id": "f258b531",
   "metadata": {},
   "outputs": [],
   "source": [
    "import numpy as np\n",
    "import matplotlib.pyplot as plt\n",
    "from scipy import stats\n",
    "from scipy.stats import norm, uniform, binom, poisson, expon, t, chi2"
   ]
  },
  {
   "cell_type": "code",
   "execution_count": 17,
   "id": "7eca9433-07b2-446c-8fce-8ca0e1c87b99",
   "metadata": {},
   "outputs": [
    {
     "name": "stdout",
     "output_type": "stream",
     "text": [
      "Our dataset: [0, 1, 2, 3, 3, 4, 5, 5, 5, 10, 10, 12, 15, 12, 18, 20, 12, 25, 30, 12, 35, 40, 12, 50, 55, 60, 65, 70, 75, 80, 85, 90, 95, 98, 99, 100, 500, 1000, 100000]\n"
     ]
    }
   ],
   "source": [
    "data = [0, 1, 2, 3, 3, 4, 5, 5, 5, 10, 10, 12, 15, 12, 18, 20, 12, 25, 30, 12, 35, 40, 12, 50, 55, 60, 65, 70, 75, 80, 85, 90, 95, 98, 99, 100, 500, 1000, 100000]\n",
    "print(\"Our dataset:\", data)"
   ]
  },
  {
   "cell_type": "markdown",
   "id": "ce1d0d3f",
   "metadata": {},
   "source": [
    "### 🔍 EXERCISE 4: Try creating your own dataset with numbers that all occur the same number of times. What is the mode in that case? What does the histogram look like?)"
   ]
  },
  {
   "cell_type": "code",
   "execution_count": 18,
   "id": "904a3e21",
   "metadata": {},
   "outputs": [
    {
     "name": "stdout",
     "output_type": "stream",
     "text": [
      "Arithmetic Mean: 2636.230769230769\n"
     ]
    }
   ],
   "source": [
    "mean_arithmetic = np.mean(data)\n",
    "print(\"Arithmetic Mean:\", mean_arithmetic)"
   ]
  },
  {
   "cell_type": "code",
   "execution_count": 19,
   "id": "df65c46f-9cd4-4a3e-ae29-56f8d7fc5c14",
   "metadata": {},
   "outputs": [
    {
     "data": {
      "image/png": "[encoded data removed]",
      "text/plain": [
       "<Figure size 800x500 with 1 Axes>"
      ]
     },
     "metadata": {},
     "output_type": "display_data"
    }
   ],
   "source": [
    "#We use matplotlib to create a histogram of our data\n",
    "plt.figure(figsize=(8,5))\n",
    "plt.hist(data, bins=7, color='green', edgecolor='black')\n",
    "plt.title(\"Histogram of Data\")\n",
    "plt.xlabel(\"Value\")\n",
    "plt.ylabel(\"Frequency\")\n",
    "plt.show()"
   ]
  },
  {
   "cell_type": "markdown",
   "id": "0e171524",
   "metadata": {},
   "source": [
    "### 🔍 EXERCISE 5: Try plotting a histogram of the following data. Play around with the number of trials and with more or fewer bins (change 'bins=' to a different number). How does it change the shape of the histogram? What do you notice as you increase the number of bins?"
   ]
  },
  {
   "cell_type": "code",
   "execution_count": 58,
   "id": "995fcf2b",
   "metadata": {},
   "outputs": [],
   "source": [
    "# Parameters\n",
    "n = 50        # number of trials\n",
    "p = 0.5       # probability of success\n",
    "size = 1000  # number of experiments (sample size)\n",
    "\n",
    "# Generate binomial samples\n",
    "data = np.random.binomial(n, p, size)"
   ]
  },
  {
   "cell_type": "code",
   "execution_count": 1,
   "id": "cd78f35f",
   "metadata": {},
   "outputs": [],
   "source": [
    "# Plot histogram\n"
   ]
  }
 ],
 "metadata": {
  "kernelspec": {
   "display_name": "Python 3 (ipykernel)",
   "language": "python",
   "name": "python3"
  },
  "language_info": {
   "codemirror_mode": {
    "name": "ipython",
    "version": 3
   },
   "file_extension": ".py",
   "mimetype": "text/x-python",
   "name": "python",
   "nbconvert_exporter": "python",
   "pygments_lexer": "ipython3",
   "version": "3.12.7"
  }
 },
 "nbformat": 4,
 "nbformat_minor": 5
}
