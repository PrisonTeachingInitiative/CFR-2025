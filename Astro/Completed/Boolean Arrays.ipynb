{
 "cells": [
  {
   "cell_type": "markdown",
   "id": "ff8e704a-001b-40e1-87ff-6a1f8ba4da40",
   "metadata": {},
   "source": [
    "# Boolean Arrays"
   ]
  },
  {
   "cell_type": "code",
   "execution_count": 25,
   "id": "24d37bc8-adcf-4c59-8af6-d2eeffedbd2c",
   "metadata": {},
   "outputs": [],
   "source": [
    "import numpy as np # importing a function to create data arrays -- y'all won't need to do this part\n",
    "\n",
    "# creating some fake data -- y'all won't have to do this part\n",
    "cat_colors = np.array(['brown', 'black', 'black', 'grey', 'white', 'orange', 'black'])\n",
    "cat_names = np.array(['nemo', 'lady', 'simba', 'tramp', 'snow', 'kitty', 'star'])"
   ]
  },
  {
   "cell_type": "code",
   "execution_count": 27,
   "id": "fc5b38f6-07de-436e-8d8d-5a90d5e090fd",
   "metadata": {},
   "outputs": [],
   "source": [
    "# let's say i want the names of all the black cats\n",
    "\n",
    "# first method, is loops and if statements. this is the long way we want to avoid\n",
    "black_cats = [] # create an empty list that will contain the names of black cats\n",
    "for i in range(len(cat_colors)): # setting up a loop to go through all the cat colors\n",
    "    if cat_colors[i] == 'black': # our conditional to get black cats\n",
    "        black_cats.append(cat_names[i]) # if the conditional is true, add the corresponding name"
   ]
  },
  {
   "cell_type": "code",
   "execution_count": 29,
   "id": "1eccb9ce-cdd2-4e81-9454-c8f2e979f91c",
   "metadata": {},
   "outputs": [
    {
     "data": {
      "text/plain": [
       "['lady', 'simba', 'star']"
      ]
     },
     "execution_count": 29,
     "metadata": {},
     "output_type": "execute_result"
    }
   ],
   "source": [
    "black_cats # checking that it worked correctly"
   ]
  },
  {
   "cell_type": "markdown",
   "id": "48d62dd6-8dab-4832-8cb5-b8aff49dbc4c",
   "metadata": {},
   "source": [
    "## Boolean\n",
    "\n",
    "The above is too long! Let's use an easier way.\n",
    "\n",
    "Boolean is a data type. The value can be True (1) or False (0)."
   ]
  },
  {
   "cell_type": "code",
   "execution_count": 34,
   "id": "fdf7f99d-9b7d-44c8-a3d1-d7c96d365d30",
   "metadata": {},
   "outputs": [],
   "source": [
    "# create a boolean array\n",
    "# we first need to give it a name\n",
    "# then you have 1 equal sign to assign it the value of the Boolean array\n",
    "# on the right of the equal sign, you have the condition\n",
    "# boolean_array = condition\n",
    "black_color = cat_colors == 'black' \n",
    "# black_color is the name of the Boolean array\n",
    "# cat_colors == 'black' is the condition"
   ]
  },
  {
   "cell_type": "code",
   "execution_count": 36,
   "id": "c60d2c1c-7e6c-4071-9246-86d573bf120e",
   "metadata": {},
   "outputs": [
    {
     "data": {
      "text/plain": [
       "array([False,  True,  True, False, False, False,  True])"
      ]
     },
     "execution_count": 36,
     "metadata": {},
     "output_type": "execute_result"
    }
   ],
   "source": [
    "# check the Boolean array -- it will be full of True and False\n",
    "black_color # it will be the same length as cat_colors"
   ]
  },
  {
   "cell_type": "code",
   "execution_count": 49,
   "id": "f2ce9a6c-d88a-410d-b31b-1cc634da262a",
   "metadata": {},
   "outputs": [
    {
     "data": {
      "text/plain": [
       "array(['lady', 'simba', 'star'], dtype='<U5')"
      ]
     },
     "execution_count": 49,
     "metadata": {},
     "output_type": "execute_result"
    }
   ],
   "source": [
    "# use boolean array to pull out other data that corresponds to True\n",
    "# to do this, you say the name of the array you want to pull from then [Boolean array]\n",
    "cat_names[black_color]"
   ]
  },
  {
   "cell_type": "code",
   "execution_count": null,
   "id": "70d2b8ab-8cd3-489e-9d6d-8bea50467849",
   "metadata": {},
   "outputs": [],
   "source": [
    "# we can also save the data to a new variable\n",
    "black_cats_bol = cat_names[black_color] # original data[boolean array]"
   ]
  },
  {
   "cell_type": "code",
   "execution_count": 51,
   "id": "6223bba4-47c8-4a59-90cc-8b68c17829b0",
   "metadata": {},
   "outputs": [
    {
     "data": {
      "text/plain": [
       "array(['lady', 'simba', 'star'], dtype='<U5')"
      ]
     },
     "execution_count": 51,
     "metadata": {},
     "output_type": "execute_result"
    }
   ],
   "source": [
    "# check the array of names of black cats\n",
    "black_cats_bol"
   ]
  },
  {
   "cell_type": "code",
   "execution_count": 44,
   "id": "74b92fae-871c-49aa-a28a-346a54f90399",
   "metadata": {},
   "outputs": [
    {
     "data": {
      "text/plain": [
       "array([2, 3])"
      ]
     },
     "execution_count": 44,
     "metadata": {},
     "output_type": "execute_result"
    }
   ],
   "source": [
    "# another example\n",
    "food = np.array(['pizza', 'pizza', 'orange', 'chips', 'grape', 'cheese'])\n",
    "cost = np.array([2, 3, 5, 6, 1, 4])\n",
    "\n",
    "# pull out the cost of all the pizza\n",
    "pizzas = food == 'pizza' # create the boolean array\n",
    "pizza_cost = cost[pizzas] # pull out the corresponding data from the cost array\n",
    "pizza_cost"
   ]
  },
  {
   "cell_type": "code",
   "execution_count": 46,
   "id": "5f5a3426-2bf0-46bd-b6df-89033a8d4073",
   "metadata": {},
   "outputs": [
    {
     "data": {
      "text/plain": [
       "array([34, 12])"
      ]
     },
     "execution_count": 46,
     "metadata": {},
     "output_type": "execute_result"
    }
   ],
   "source": [
    "# one more example\n",
    "price = np.array([23, 45, 100, 34, 12])\n",
    "weight = np.array([13, 14, 15, 16, 17])\n",
    "\n",
    "# i want the price of everything that weighs more than 15\n",
    "heavy = weight > 15 # create a boolean array\n",
    "price_heavy = price[heavy] # pull out the prices of everything that fits the weight category\n",
    "price_heavy"
   ]
  },
  {
   "cell_type": "code",
   "execution_count": null,
   "id": "95cf7d82-fbdf-4e1a-b05a-ea6a6d80173e",
   "metadata": {},
   "outputs": [],
   "source": []
  }
 ],
 "metadata": {
  "kernelspec": {
   "display_name": "Python [conda env:base] *",
   "language": "python",
   "name": "conda-base-py"
  },
  "language_info": {
   "codemirror_mode": {
    "name": "ipython",
    "version": 3
   },
   "file_extension": ".py",
   "mimetype": "text/x-python",
   "name": "python",
   "nbconvert_exporter": "python",
   "pygments_lexer": "ipython3",
   "version": "3.12.7"
  }
 },
 "nbformat": 4,
 "nbformat_minor": 5
}
