{
 "cells": [
  {
   "cell_type": "markdown",
   "metadata": {},
   "source": [
    "## Galaxies in Illustris\n",
    "\n",
    "Above, we were looking at star particles in simulated galaxies, similar to how we looked at stars in the Milky Way using Gaia data. We can instead look at many galaxies' overall properties, similar to how we looked at galaxies in Galaxy Zoo. We can look at some of the fully evolved galaxies in IllustrisTNG by examining the Illustris_galaxies file in the Data folder."
   ]
  },
  {
   "cell_type": "code",
   "execution_count": 3,
   "metadata": {},
   "outputs": [],
   "source": [
    "# read in the data (Illustris_galaxies.csv)\n",
    "import pandas as pd\n",
    "data1 = pd.read_csv('../Data/Illustris_galaxies.csv')\n"
   ]
  },
  {
   "cell_type": "code",
   "execution_count": 4,
   "metadata": {},
   "outputs": [
    {
     "data": {
      "text/html": [
       "<div>\n",
       "<style scoped>\n",
       "    .dataframe tbody tr th:only-of-type {\n",
       "        vertical-align: middle;\n",
       "    }\n",
       "\n",
       "    .dataframe tbody tr th {\n",
       "        vertical-align: top;\n",
       "    }\n",
       "\n",
       "    .dataframe thead th {\n",
       "        text-align: right;\n",
       "    }\n",
       "</style>\n",
       "<table border=\"1\" class=\"dataframe\">\n",
       "  <thead>\n",
       "    <tr style=\"text-align: right;\">\n",
       "      <th></th>\n",
       "      <th>Galaxy ID</th>\n",
       "      <th>Stellar Mass [Mo]</th>\n",
       "      <th>g band</th>\n",
       "      <th>r band</th>\n",
       "      <th>Probability is spiral</th>\n",
       "    </tr>\n",
       "  </thead>\n",
       "  <tbody>\n",
       "    <tr>\n",
       "      <th>0</th>\n",
       "      <td>0</td>\n",
       "      <td>3.565573e+12</td>\n",
       "      <td>-23.256830</td>\n",
       "      <td>-24.071047</td>\n",
       "      <td>0.285813</td>\n",
       "    </tr>\n",
       "    <tr>\n",
       "      <th>1</th>\n",
       "      <td>1</td>\n",
       "      <td>5.376783e+11</td>\n",
       "      <td>-21.941610</td>\n",
       "      <td>-22.712160</td>\n",
       "      <td>0.817303</td>\n",
       "    </tr>\n",
       "    <tr>\n",
       "      <th>2</th>\n",
       "      <td>2</td>\n",
       "      <td>6.034437e+11</td>\n",
       "      <td>-22.199574</td>\n",
       "      <td>-22.951138</td>\n",
       "      <td>0.941455</td>\n",
       "    </tr>\n",
       "    <tr>\n",
       "      <th>3</th>\n",
       "      <td>3</td>\n",
       "      <td>1.650696e+11</td>\n",
       "      <td>-21.828701</td>\n",
       "      <td>-22.411537</td>\n",
       "      <td>0.998825</td>\n",
       "    </tr>\n",
       "    <tr>\n",
       "      <th>4</th>\n",
       "      <td>4</td>\n",
       "      <td>1.283022e+11</td>\n",
       "      <td>-20.685863</td>\n",
       "      <td>-21.426640</td>\n",
       "      <td>0.113466</td>\n",
       "    </tr>\n",
       "    <tr>\n",
       "      <th>...</th>\n",
       "      <td>...</td>\n",
       "      <td>...</td>\n",
       "      <td>...</td>\n",
       "      <td>...</td>\n",
       "      <td>...</td>\n",
       "    </tr>\n",
       "    <tr>\n",
       "      <th>12530</th>\n",
       "      <td>704187</td>\n",
       "      <td>5.030724e+09</td>\n",
       "      <td>-17.602875</td>\n",
       "      <td>-18.358276</td>\n",
       "      <td>0.411240</td>\n",
       "    </tr>\n",
       "    <tr>\n",
       "      <th>12531</th>\n",
       "      <td>719337</td>\n",
       "      <td>6.327700e+09</td>\n",
       "      <td>-18.095821</td>\n",
       "      <td>-18.824528</td>\n",
       "      <td>0.607696</td>\n",
       "    </tr>\n",
       "    <tr>\n",
       "      <th>12532</th>\n",
       "      <td>727485</td>\n",
       "      <td>5.224962e+09</td>\n",
       "      <td>-17.727982</td>\n",
       "      <td>-18.471638</td>\n",
       "      <td>0.475961</td>\n",
       "    </tr>\n",
       "    <tr>\n",
       "      <th>12533</th>\n",
       "      <td>738596</td>\n",
       "      <td>3.874592e+09</td>\n",
       "      <td>-17.392363</td>\n",
       "      <td>-18.134193</td>\n",
       "      <td>0.542526</td>\n",
       "    </tr>\n",
       "    <tr>\n",
       "      <th>12534</th>\n",
       "      <td>752194</td>\n",
       "      <td>3.403812e+09</td>\n",
       "      <td>-17.248920</td>\n",
       "      <td>-17.987637</td>\n",
       "      <td>0.777810</td>\n",
       "    </tr>\n",
       "  </tbody>\n",
       "</table>\n",
       "<p>12535 rows × 5 columns</p>\n",
       "</div>"
      ],
      "text/plain": [
       "       Galaxy ID  Stellar Mass [Mo]     g band     r band  \\\n",
       "0              0       3.565573e+12 -23.256830 -24.071047   \n",
       "1              1       5.376783e+11 -21.941610 -22.712160   \n",
       "2              2       6.034437e+11 -22.199574 -22.951138   \n",
       "3              3       1.650696e+11 -21.828701 -22.411537   \n",
       "4              4       1.283022e+11 -20.685863 -21.426640   \n",
       "...          ...                ...        ...        ...   \n",
       "12530     704187       5.030724e+09 -17.602875 -18.358276   \n",
       "12531     719337       6.327700e+09 -18.095821 -18.824528   \n",
       "12532     727485       5.224962e+09 -17.727982 -18.471638   \n",
       "12533     738596       3.874592e+09 -17.392363 -18.134193   \n",
       "12534     752194       3.403812e+09 -17.248920 -17.987637   \n",
       "\n",
       "       Probability is spiral  \n",
       "0                   0.285813  \n",
       "1                   0.817303  \n",
       "2                   0.941455  \n",
       "3                   0.998825  \n",
       "4                   0.113466  \n",
       "...                      ...  \n",
       "12530               0.411240  \n",
       "12531               0.607696  \n",
       "12532               0.475961  \n",
       "12533               0.542526  \n",
       "12534               0.777810  \n",
       "\n",
       "[12535 rows x 5 columns]"
      ]
     },
     "execution_count": 4,
     "metadata": {},
     "output_type": "execute_result"
    }
   ],
   "source": [
    "# display the data set\n",
    "data1"
   ]
  },
  {
   "cell_type": "markdown",
   "metadata": {},
   "source": [
    "**How many rows are there?** \n",
    "\n",
    "**Answer:** 12535\n",
    "\n",
    "**How many columns are there?** \n",
    "\n",
    "**Answer:** 5\n",
    "\n",
    "**Fill in the rows for each corresponding column**\n",
    "\n",
    "| Column Header | Definition | Unit |\n",
    "| :- | :- | :- |\n",
    "| Galaxy ID |  | \n",
    "| Stellar Mass [Mo] | | \n",
    "| g band |  | \n",
    "| r band |  | \n",
    "| Probability is spiral |  | "
   ]
  },
  {
   "cell_type": "code",
   "execution_count": 18,
   "metadata": {},
   "outputs": [
    {
     "name": "stdout",
     "output_type": "stream",
     "text": [
      "Spiral galaxies:\n",
      " 0        False\n",
      "1         True\n",
      "2         True\n",
      "3         True\n",
      "4        False\n",
      "         ...  \n",
      "12530    False\n",
      "12531    False\n",
      "12532    False\n",
      "12533    False\n",
      "12534    False\n",
      "Name: Probability is spiral, Length: 12535, dtype: bool\n",
      "Elliptical galaxies:\n",
      " 0        False\n",
      "1        False\n",
      "2        False\n",
      "3        False\n",
      "4         True\n",
      "         ...  \n",
      "12530    False\n",
      "12531    False\n",
      "12532    False\n",
      "12533    False\n",
      "12534    False\n",
      "Name: Probability is spiral, Length: 12535, dtype: bool\n"
     ]
    }
   ],
   "source": [
    "# create two boolean arrays for if a galaxy is a spiral galaxy or an elliptical galaxy\n",
    "# use the same probability cut off that we did with the galaxy zoo\n",
    "# you can assume a galaxy is elliptical if it is is less than 20% chance a spiral galaxy\n",
    "\n",
    "# grabbing  probability columns\n",
    "\n",
    "galaxy_probability = data1[\"Probability is spiral\"]\n",
    "\n",
    "is_spiral = galaxy_probability >= 0.8\n",
    "is_elliptical = galaxy_probability < 0.2\n",
    "\n",
    "# Print the boolean arrays (optional, for checking)\n",
    "print(\"Spiral galaxies:\\n\", is_spiral)\n",
    "print(\"Elliptical galaxies:\\n\", is_elliptical)\n",
    "\n",
    "\n"
   ]
  },
  {
   "cell_type": "markdown",
   "metadata": {},
   "source": [
    "**What percentage of these galaxies are spirals?**\n",
    "\n",
    "**Answer:** \n",
    "\n",
    "**What percentage of these galaxies are ellipticals?**\n",
    "\n",
    "**Answer:** "
   ]
  },
  {
   "cell_type": "code",
   "execution_count": 15,
   "metadata": {},
   "outputs": [
    {
     "name": "stdout",
     "output_type": "stream",
     "text": [
      "The percentage of spiral galaxies is 26.18 %\n",
      "The percentage of elliptical galaxies is 11.76 %\n"
     ]
    }
   ],
   "source": [
    "#fill in the name of the boolean arrays where you see $\n",
    "print('The percentage of spiral galaxies is', round(sum(is_spiral)/len(is_spiral) * 100,2), '%')\n",
    "print('The percentage of elliptical galaxies is', round(sum(is_elliptical)/len(is_elliptical) * 100,2), '%')"
   ]
  },
  {
   "cell_type": "markdown",
   "metadata": {},
   "source": [
    "**How do these percentages compare to the ones you found in the Galaxy Zoo data?**\n",
    "\n",
    "**Answer:** the percentages are close, maybe 2% difference "
   ]
  },
  {
   "cell_type": "code",
   "execution_count": 41,
   "metadata": {},
   "outputs": [
    {
     "data": {
      "image/png": "[encoded data removed]",
      "text/plain": [
       "<Figure size 1000x600 with 1 Axes>"
      ]
     },
     "metadata": {},
     "output_type": "display_data"
    },
    {
     "name": "stdout",
     "output_type": "stream",
     "text": [
      "The mean color of spiral galaxies is 0.45\n",
      "The mean color of elliptical galaxies is 0.75\n",
      "\n",
      "The standard deviation of the color of spiral galaxies is 0.11\n",
      "The standard deviation of the color of elliptical galaxies is 0.09\n"
     ]
    }
   ],
   "source": [
    "# create a single plot showing histograms of the colors of the two types of galaxies \n",
    "\n",
    "# import our graphing package and numpy\n",
    "import matplotlib.pyplot as plt\n",
    "import numpy as np\n",
    "import pandas as pd \n",
    "\n",
    "\n",
    "\n",
    "#the below is optional but makes the font a size I can read more easily\n",
    "import matplotlib\n",
    "matplotlib.rc('font', **{'family':'sans-serif', 'size':16}) \n",
    "\n",
    "# calculate color\n",
    "# Calculate color for elliptical and spiral galaxies using the mask on the full DataFrame\n",
    "elliptical_galaxy_color = data1.loc[is_elliptical, \"g band\"] - data1.loc[is_elliptical, \"r band\"]\n",
    "spiral_galaxy_color = data1.loc[is_spiral, \"g band\"] - data1.loc[is_spiral, \"r band\"]\n",
    "\n",
    "\n",
    "# separate into spiral and elliptical\n",
    "\n",
    "\n",
    "# create one histogram with elliptical and spiral galaxies on it\n",
    "# Plot histogram\n",
    "plt.figure(figsize=(10, 6))\n",
    "plt.hist(elliptical_galaxy_color, bins=10, color='orange', edgecolor='black', alpha=0.7, label='Elliptical')\n",
    "plt.hist(spiral_galaxy_color, bins=10, color='yellow', edgecolor='black', alpha=0.5, label='Spiral')\n",
    "# calculate mean colors\n",
    "spiral_mean = spiral_galaxy_color.mean()\n",
    "elliptical_mean = elliptical_galaxy_color.mean()\n",
    "\n",
    "\n",
    "# mark the spiral mean color\n",
    "plt.axvline(spiral_mean, color='green', linestyle='dashed', linewidth=2, label=f'Spiral Mean = {spiral_mean:.2f}')\n",
    "\n",
    "# label red/blue sides\n",
    "plt.text(spiral_mean - 0.3, plt.ylim()[1]*0.9, 'Bluer', color='blue', fontsize=12)\n",
    "plt.text(spiral_mean + 0.1, plt.ylim()[1]*0.9, 'Redder', color='red', fontsize=12)\n",
    "\n",
    "\n",
    "plt.xlabel('Color (g - r)')\n",
    "plt.ylabel('Number of Galaxies')\n",
    "plt.title('Galaxy Color Distribution by Type')\n",
    "plt.legend(fontsize=8, loc='upper right')\n",
    "plt.grid(True, linestyle='--', alpha=0.5)\n",
    "plt.tight_layout()\n",
    "plt.show()\n",
    "# statistics -- find the mean and standard deviations of the color for spirals and ellipticals\n",
    "# print the stats below\n",
    "\n",
    "\n",
    "print('The mean color of spiral galaxies is', round(np.mean(spiral_galaxy_color), 2))\n",
    "print('The mean color of elliptical galaxies is', round(np.mean(elliptical_galaxy_color), 2))\n",
    "print()\n",
    "print('The standard deviation of the color of spiral galaxies is', round(np.std(spiral_galaxy_color), 2))\n",
    "print('The standard deviation of the color of elliptical galaxies is', round(np.std(elliptical_galaxy_color), 2))\n"
   ]
  },
  {
   "cell_type": "markdown",
   "metadata": {},
   "source": [
    "**Are your results consistent with what you found in Galaxy Zoo?**\n",
    "\n",
    "**Answer:**"
   ]
  },
  {
   "cell_type": "markdown",
   "metadata": {},
   "source": [
    "## Mergers\n",
    "\n",
    "So far, we have confirmed that in at least some ways, the simulated galaxies behave like observed ones! Cool, but let's learn something new! I said that we can use galaxy simulations to learn about mergers. Let's do that! Read in the mergers files and check out what it contains. "
   ]
  },
  {
   "cell_type": "code",
   "execution_count": null,
   "metadata": {},
   "outputs": [],
   "source": [
    "# read in the file mergers.csv\n"
   ]
  },
  {
   "cell_type": "code",
   "execution_count": null,
   "metadata": {},
   "outputs": [],
   "source": [
    "# examine the data\n"
   ]
  },
  {
   "cell_type": "markdown",
   "metadata": {},
   "source": [
    "**How many rows are there?** \n",
    "\n",
    "**Answer:**\n",
    "\n",
    "**How many columns are there?**\n",
    "\n",
    "**Answer:** \n",
    "\n",
    "**Fill in the rows for each corresponding column**\n",
    "\n",
    "| Column Header | Definition | Unit |\n",
    "| :- | :- | :- |\n",
    "| Galaxy ID |  | \n",
    "| Time Since Last Major Merger [Gyr] | | \n",
    "| Number of Major Mergers |  | \n",
    "| Number of Minor Mergers |  | "
   ]
  },
  {
   "cell_type": "markdown",
   "metadata": {},
   "source": [
    "# Deliverable\n",
    "\n",
    "Explore the galaxy data you have in this notebook to make at least one plot that tells us something we haven't explored! Be ready to present. You might want to include statistics."
   ]
  },
  {
   "cell_type": "code",
   "execution_count": null,
   "metadata": {},
   "outputs": [],
   "source": [
    "# explore the data and make a plot below!\n",
    "\n"
   ]
  },
  {
   "cell_type": "markdown",
   "metadata": {},
   "source": [
    "**According to your graph set up...**\n",
    "\n",
    "**What is the independent variable?**\n",
    "\n",
    "**Answer:**\n",
    "\n",
    "\n",
    "**What is the dependent variable?**\n",
    "\n",
    "**Answer:**\n",
    "\n",
    "\n",
    "**What could a control variable be?**\n",
    "\n",
    "**Answer:**\n",
    "\n",
    "**What shapes or trends do you see in the data?**\n",
    "\n",
    "**Answer:**\n",
    "\n",
    "**What could this mean physically/astronomically?**\n",
    "\n",
    "**Answer:**\n",
    "\n",
    "**What further questions does this raise?**\n",
    "\n",
    "**Answer:**"
   ]
  },
  {
   "cell_type": "markdown",
   "metadata": {},
   "source": [
    "## Reflection\n",
    "\n",
    "Write down some notes in your lab notebook about what you've learned in this unit about simulated galaxies. Be sure to include some astronomy and some coding. "
   ]
  }
 ],
 "metadata": {
  "kernelspec": {
   "display_name": "Python 3 (ipykernel)",
   "language": "python",
   "name": "python3"
  },
  "language_info": {
   "codemirror_mode": {
    "name": "ipython",
    "version": 3
   },
   "file_extension": ".py",
   "mimetype": "text/x-python",
   "name": "python",
   "nbconvert_exporter": "python",
   "pygments_lexer": "ipython3",
   "version": "3.13.5"
  }
 },
 "nbformat": 4,
 "nbformat_minor": 4
}
