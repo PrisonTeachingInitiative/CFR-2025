{
 "cells": [
  {
   "cell_type": "markdown",
   "id": "efca4a18-eb4d-43bb-bcea-03704e69134d",
   "metadata": {},
   "source": [
    "### Project plot!\n",
    "\n",
    "Have your code for your project plot here. All data is in the ../Data/CFR_project_data folder"
   ]
  },
  {
   "cell_type": "code",
   "execution_count": null,
   "id": "89d8fbcf-5686-4d11-aa7a-81b5f0fab115",
   "metadata": {},
   "outputs": [],
   "source": []
  }
 ],
 "metadata": {
  "kernelspec": {
   "display_name": "Python [conda env:base] *",
   "language": "python",
   "name": "conda-base-py"
  },
  "language_info": {
   "codemirror_mode": {
    "name": "ipython",
    "version": 3
   },
   "file_extension": ".py",
   "mimetype": "text/x-python",
   "name": "python",
   "nbconvert_exporter": "python",
   "pygments_lexer": "ipython3",
   "version": "3.12.7"
  }
 },
 "nbformat": 4,
 "nbformat_minor": 5
}
